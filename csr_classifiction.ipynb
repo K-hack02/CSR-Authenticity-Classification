{
 "nbformat": 4,
 "nbformat_minor": 0,
 "metadata": {
  "colab": {
   "provenance": []
  },
  "kernelspec": {
   "name": "python3",
   "display_name": "Python 3 (ipykernel)",
   "language": "python"
  },
  "language_info": {
   "name": "python"
  },
  "widgets": {
   "application/vnd.jupyter.widget-state+json": {
    "dfd996fc28964559970239bd94720f79": {
     "model_module": "@jupyter-widgets/controls",
     "model_name": "HBoxModel",
     "model_module_version": "1.5.0",
     "state": {
      "_dom_classes": [],
      "_model_module": "@jupyter-widgets/controls",
      "_model_module_version": "1.5.0",
      "_model_name": "HBoxModel",
      "_view_count": null,
      "_view_module": "@jupyter-widgets/controls",
      "_view_module_version": "1.5.0",
      "_view_name": "HBoxView",
      "box_style": "",
      "children": [
       "IPY_MODEL_cade616fd233433ebdb281b78e359d44",
       "IPY_MODEL_2be13879d1af4abc9fd422d7f6d2d5f1",
       "IPY_MODEL_7c3405e0d95543e79f8579548331e1f6"
      ],
      "layout": "IPY_MODEL_246c955d287b4e67b1cfacbc2668df15"
     }
    },
    "cade616fd233433ebdb281b78e359d44": {
     "model_module": "@jupyter-widgets/controls",
     "model_name": "HTMLModel",
     "model_module_version": "1.5.0",
     "state": {
      "_dom_classes": [],
      "_model_module": "@jupyter-widgets/controls",
      "_model_module_version": "1.5.0",
      "_model_name": "HTMLModel",
      "_view_count": null,
      "_view_module": "@jupyter-widgets/controls",
      "_view_module_version": "1.5.0",
      "_view_name": "HTMLView",
      "description": "",
      "description_tooltip": null,
      "layout": "IPY_MODEL_57076e0808cc46e89706ef1d9f62314e",
      "placeholder": "​",
      "style": "IPY_MODEL_285963cae61f4e879e927d13af31f455",
      "value": "tokenizer_config.json: 100%"
     }
    },
    "2be13879d1af4abc9fd422d7f6d2d5f1": {
     "model_module": "@jupyter-widgets/controls",
     "model_name": "FloatProgressModel",
     "model_module_version": "1.5.0",
     "state": {
      "_dom_classes": [],
      "_model_module": "@jupyter-widgets/controls",
      "_model_module_version": "1.5.0",
      "_model_name": "FloatProgressModel",
      "_view_count": null,
      "_view_module": "@jupyter-widgets/controls",
      "_view_module_version": "1.5.0",
      "_view_name": "ProgressView",
      "bar_style": "success",
      "description": "",
      "description_tooltip": null,
      "layout": "IPY_MODEL_b6e9ee4ed89943fc91727fc31e3512ef",
      "max": 48,
      "min": 0,
      "orientation": "horizontal",
      "style": "IPY_MODEL_ea30b7ed9c8e4184be6ce6d52c1833a0",
      "value": 48
     }
    },
    "7c3405e0d95543e79f8579548331e1f6": {
     "model_module": "@jupyter-widgets/controls",
     "model_name": "HTMLModel",
     "model_module_version": "1.5.0",
     "state": {
      "_dom_classes": [],
      "_model_module": "@jupyter-widgets/controls",
      "_model_module_version": "1.5.0",
      "_model_name": "HTMLModel",
      "_view_count": null,
      "_view_module": "@jupyter-widgets/controls",
      "_view_module_version": "1.5.0",
      "_view_name": "HTMLView",
      "description": "",
      "description_tooltip": null,
      "layout": "IPY_MODEL_e9bf17c9f6cc448aad23923f6866d0ca",
      "placeholder": "​",
      "style": "IPY_MODEL_db57fb7c8d9740a4b1c3ed9f23c50291",
      "value": " 48.0/48.0 [00:00&lt;00:00, 1.87kB/s]"
     }
    },
    "246c955d287b4e67b1cfacbc2668df15": {
     "model_module": "@jupyter-widgets/base",
     "model_name": "LayoutModel",
     "model_module_version": "1.2.0",
     "state": {
      "_model_module": "@jupyter-widgets/base",
      "_model_module_version": "1.2.0",
      "_model_name": "LayoutModel",
      "_view_count": null,
      "_view_module": "@jupyter-widgets/base",
      "_view_module_version": "1.2.0",
      "_view_name": "LayoutView",
      "align_content": null,
      "align_items": null,
      "align_self": null,
      "border": null,
      "bottom": null,
      "display": null,
      "flex": null,
      "flex_flow": null,
      "grid_area": null,
      "grid_auto_columns": null,
      "grid_auto_flow": null,
      "grid_auto_rows": null,
      "grid_column": null,
      "grid_gap": null,
      "grid_row": null,
      "grid_template_areas": null,
      "grid_template_columns": null,
      "grid_template_rows": null,
      "height": null,
      "justify_content": null,
      "justify_items": null,
      "left": null,
      "margin": null,
      "max_height": null,
      "max_width": null,
      "min_height": null,
      "min_width": null,
      "object_fit": null,
      "object_position": null,
      "order": null,
      "overflow": null,
      "overflow_x": null,
      "overflow_y": null,
      "padding": null,
      "right": null,
      "top": null,
      "visibility": null,
      "width": null
     }
    },
    "57076e0808cc46e89706ef1d9f62314e": {
     "model_module": "@jupyter-widgets/base",
     "model_name": "LayoutModel",
     "model_module_version": "1.2.0",
     "state": {
      "_model_module": "@jupyter-widgets/base",
      "_model_module_version": "1.2.0",
      "_model_name": "LayoutModel",
      "_view_count": null,
      "_view_module": "@jupyter-widgets/base",
      "_view_module_version": "1.2.0",
      "_view_name": "LayoutView",
      "align_content": null,
      "align_items": null,
      "align_self": null,
      "border": null,
      "bottom": null,
      "display": null,
      "flex": null,
      "flex_flow": null,
      "grid_area": null,
      "grid_auto_columns": null,
      "grid_auto_flow": null,
      "grid_auto_rows": null,
      "grid_column": null,
      "grid_gap": null,
      "grid_row": null,
      "grid_template_areas": null,
      "grid_template_columns": null,
      "grid_template_rows": null,
      "height": null,
      "justify_content": null,
      "justify_items": null,
      "left": null,
      "margin": null,
      "max_height": null,
      "max_width": null,
      "min_height": null,
      "min_width": null,
      "object_fit": null,
      "object_position": null,
      "order": null,
      "overflow": null,
      "overflow_x": null,
      "overflow_y": null,
      "padding": null,
      "right": null,
      "top": null,
      "visibility": null,
      "width": null
     }
    },
    "285963cae61f4e879e927d13af31f455": {
     "model_module": "@jupyter-widgets/controls",
     "model_name": "DescriptionStyleModel",
     "model_module_version": "1.5.0",
     "state": {
      "_model_module": "@jupyter-widgets/controls",
      "_model_module_version": "1.5.0",
      "_model_name": "DescriptionStyleModel",
      "_view_count": null,
      "_view_module": "@jupyter-widgets/base",
      "_view_module_version": "1.2.0",
      "_view_name": "StyleView",
      "description_width": ""
     }
    },
    "b6e9ee4ed89943fc91727fc31e3512ef": {
     "model_module": "@jupyter-widgets/base",
     "model_name": "LayoutModel",
     "model_module_version": "1.2.0",
     "state": {
      "_model_module": "@jupyter-widgets/base",
      "_model_module_version": "1.2.0",
      "_model_name": "LayoutModel",
      "_view_count": null,
      "_view_module": "@jupyter-widgets/base",
      "_view_module_version": "1.2.0",
      "_view_name": "LayoutView",
      "align_content": null,
      "align_items": null,
      "align_self": null,
      "border": null,
      "bottom": null,
      "display": null,
      "flex": null,
      "flex_flow": null,
      "grid_area": null,
      "grid_auto_columns": null,
      "grid_auto_flow": null,
      "grid_auto_rows": null,
      "grid_column": null,
      "grid_gap": null,
      "grid_row": null,
      "grid_template_areas": null,
      "grid_template_columns": null,
      "grid_template_rows": null,
      "height": null,
      "justify_content": null,
      "justify_items": null,
      "left": null,
      "margin": null,
      "max_height": null,
      "max_width": null,
      "min_height": null,
      "min_width": null,
      "object_fit": null,
      "object_position": null,
      "order": null,
      "overflow": null,
      "overflow_x": null,
      "overflow_y": null,
      "padding": null,
      "right": null,
      "top": null,
      "visibility": null,
      "width": null
     }
    },
    "ea30b7ed9c8e4184be6ce6d52c1833a0": {
     "model_module": "@jupyter-widgets/controls",
     "model_name": "ProgressStyleModel",
     "model_module_version": "1.5.0",
     "state": {
      "_model_module": "@jupyter-widgets/controls",
      "_model_module_version": "1.5.0",
      "_model_name": "ProgressStyleModel",
      "_view_count": null,
      "_view_module": "@jupyter-widgets/base",
      "_view_module_version": "1.2.0",
      "_view_name": "StyleView",
      "bar_color": null,
      "description_width": ""
     }
    },
    "e9bf17c9f6cc448aad23923f6866d0ca": {
     "model_module": "@jupyter-widgets/base",
     "model_name": "LayoutModel",
     "model_module_version": "1.2.0",
     "state": {
      "_model_module": "@jupyter-widgets/base",
      "_model_module_version": "1.2.0",
      "_model_name": "LayoutModel",
      "_view_count": null,
      "_view_module": "@jupyter-widgets/base",
      "_view_module_version": "1.2.0",
      "_view_name": "LayoutView",
      "align_content": null,
      "align_items": null,
      "align_self": null,
      "border": null,
      "bottom": null,
      "display": null,
      "flex": null,
      "flex_flow": null,
      "grid_area": null,
      "grid_auto_columns": null,
      "grid_auto_flow": null,
      "grid_auto_rows": null,
      "grid_column": null,
      "grid_gap": null,
      "grid_row": null,
      "grid_template_areas": null,
      "grid_template_columns": null,
      "grid_template_rows": null,
      "height": null,
      "justify_content": null,
      "justify_items": null,
      "left": null,
      "margin": null,
      "max_height": null,
      "max_width": null,
      "min_height": null,
      "min_width": null,
      "object_fit": null,
      "object_position": null,
      "order": null,
      "overflow": null,
      "overflow_x": null,
      "overflow_y": null,
      "padding": null,
      "right": null,
      "top": null,
      "visibility": null,
      "width": null
     }
    },
    "db57fb7c8d9740a4b1c3ed9f23c50291": {
     "model_module": "@jupyter-widgets/controls",
     "model_name": "DescriptionStyleModel",
     "model_module_version": "1.5.0",
     "state": {
      "_model_module": "@jupyter-widgets/controls",
      "_model_module_version": "1.5.0",
      "_model_name": "DescriptionStyleModel",
      "_view_count": null,
      "_view_module": "@jupyter-widgets/base",
      "_view_module_version": "1.2.0",
      "_view_name": "StyleView",
      "description_width": ""
     }
    },
    "1a5c680542e04d38bcaf31c9391e5ab1": {
     "model_module": "@jupyter-widgets/controls",
     "model_name": "HBoxModel",
     "model_module_version": "1.5.0",
     "state": {
      "_dom_classes": [],
      "_model_module": "@jupyter-widgets/controls",
      "_model_module_version": "1.5.0",
      "_model_name": "HBoxModel",
      "_view_count": null,
      "_view_module": "@jupyter-widgets/controls",
      "_view_module_version": "1.5.0",
      "_view_name": "HBoxView",
      "box_style": "",
      "children": [
       "IPY_MODEL_3ab7252553124a95bf65aceea57579ee",
       "IPY_MODEL_4fb9ebd1603b4f449d68fbfba69f8f74",
       "IPY_MODEL_8897254a0905414fa408bea753b2c830"
      ],
      "layout": "IPY_MODEL_620518fe011444bf955225f28ba7733b"
     }
    },
    "3ab7252553124a95bf65aceea57579ee": {
     "model_module": "@jupyter-widgets/controls",
     "model_name": "HTMLModel",
     "model_module_version": "1.5.0",
     "state": {
      "_dom_classes": [],
      "_model_module": "@jupyter-widgets/controls",
      "_model_module_version": "1.5.0",
      "_model_name": "HTMLModel",
      "_view_count": null,
      "_view_module": "@jupyter-widgets/controls",
      "_view_module_version": "1.5.0",
      "_view_name": "HTMLView",
      "description": "",
      "description_tooltip": null,
      "layout": "IPY_MODEL_d78766c504964e3cbe22102237d316f8",
      "placeholder": "​",
      "style": "IPY_MODEL_7d8311f05a954ba998657dc983f448cf",
      "value": "vocab.txt: 100%"
     }
    },
    "4fb9ebd1603b4f449d68fbfba69f8f74": {
     "model_module": "@jupyter-widgets/controls",
     "model_name": "FloatProgressModel",
     "model_module_version": "1.5.0",
     "state": {
      "_dom_classes": [],
      "_model_module": "@jupyter-widgets/controls",
      "_model_module_version": "1.5.0",
      "_model_name": "FloatProgressModel",
      "_view_count": null,
      "_view_module": "@jupyter-widgets/controls",
      "_view_module_version": "1.5.0",
      "_view_name": "ProgressView",
      "bar_style": "success",
      "description": "",
      "description_tooltip": null,
      "layout": "IPY_MODEL_159056de37a7429c9ac596b29a1cd9ef",
      "max": 231508,
      "min": 0,
      "orientation": "horizontal",
      "style": "IPY_MODEL_77c1f9361eb04f4f84c13b39a731b7c9",
      "value": 231508
     }
    },
    "8897254a0905414fa408bea753b2c830": {
     "model_module": "@jupyter-widgets/controls",
     "model_name": "HTMLModel",
     "model_module_version": "1.5.0",
     "state": {
      "_dom_classes": [],
      "_model_module": "@jupyter-widgets/controls",
      "_model_module_version": "1.5.0",
      "_model_name": "HTMLModel",
      "_view_count": null,
      "_view_module": "@jupyter-widgets/controls",
      "_view_module_version": "1.5.0",
      "_view_name": "HTMLView",
      "description": "",
      "description_tooltip": null,
      "layout": "IPY_MODEL_00e14eede39a443290f4063cc235b9bf",
      "placeholder": "​",
      "style": "IPY_MODEL_65f84a03c1b7475d8852b4c112ece575",
      "value": " 232k/232k [00:00&lt;00:00, 2.56MB/s]"
     }
    },
    "620518fe011444bf955225f28ba7733b": {
     "model_module": "@jupyter-widgets/base",
     "model_name": "LayoutModel",
     "model_module_version": "1.2.0",
     "state": {
      "_model_module": "@jupyter-widgets/base",
      "_model_module_version": "1.2.0",
      "_model_name": "LayoutModel",
      "_view_count": null,
      "_view_module": "@jupyter-widgets/base",
      "_view_module_version": "1.2.0",
      "_view_name": "LayoutView",
      "align_content": null,
      "align_items": null,
      "align_self": null,
      "border": null,
      "bottom": null,
      "display": null,
      "flex": null,
      "flex_flow": null,
      "grid_area": null,
      "grid_auto_columns": null,
      "grid_auto_flow": null,
      "grid_auto_rows": null,
      "grid_column": null,
      "grid_gap": null,
      "grid_row": null,
      "grid_template_areas": null,
      "grid_template_columns": null,
      "grid_template_rows": null,
      "height": null,
      "justify_content": null,
      "justify_items": null,
      "left": null,
      "margin": null,
      "max_height": null,
      "max_width": null,
      "min_height": null,
      "min_width": null,
      "object_fit": null,
      "object_position": null,
      "order": null,
      "overflow": null,
      "overflow_x": null,
      "overflow_y": null,
      "padding": null,
      "right": null,
      "top": null,
      "visibility": null,
      "width": null
     }
    },
    "d78766c504964e3cbe22102237d316f8": {
     "model_module": "@jupyter-widgets/base",
     "model_name": "LayoutModel",
     "model_module_version": "1.2.0",
     "state": {
      "_model_module": "@jupyter-widgets/base",
      "_model_module_version": "1.2.0",
      "_model_name": "LayoutModel",
      "_view_count": null,
      "_view_module": "@jupyter-widgets/base",
      "_view_module_version": "1.2.0",
      "_view_name": "LayoutView",
      "align_content": null,
      "align_items": null,
      "align_self": null,
      "border": null,
      "bottom": null,
      "display": null,
      "flex": null,
      "flex_flow": null,
      "grid_area": null,
      "grid_auto_columns": null,
      "grid_auto_flow": null,
      "grid_auto_rows": null,
      "grid_column": null,
      "grid_gap": null,
      "grid_row": null,
      "grid_template_areas": null,
      "grid_template_columns": null,
      "grid_template_rows": null,
      "height": null,
      "justify_content": null,
      "justify_items": null,
      "left": null,
      "margin": null,
      "max_height": null,
      "max_width": null,
      "min_height": null,
      "min_width": null,
      "object_fit": null,
      "object_position": null,
      "order": null,
      "overflow": null,
      "overflow_x": null,
      "overflow_y": null,
      "padding": null,
      "right": null,
      "top": null,
      "visibility": null,
      "width": null
     }
    },
    "7d8311f05a954ba998657dc983f448cf": {
     "model_module": "@jupyter-widgets/controls",
     "model_name": "DescriptionStyleModel",
     "model_module_version": "1.5.0",
     "state": {
      "_model_module": "@jupyter-widgets/controls",
      "_model_module_version": "1.5.0",
      "_model_name": "DescriptionStyleModel",
      "_view_count": null,
      "_view_module": "@jupyter-widgets/base",
      "_view_module_version": "1.2.0",
      "_view_name": "StyleView",
      "description_width": ""
     }
    },
    "159056de37a7429c9ac596b29a1cd9ef": {
     "model_module": "@jupyter-widgets/base",
     "model_name": "LayoutModel",
     "model_module_version": "1.2.0",
     "state": {
      "_model_module": "@jupyter-widgets/base",
      "_model_module_version": "1.2.0",
      "_model_name": "LayoutModel",
      "_view_count": null,
      "_view_module": "@jupyter-widgets/base",
      "_view_module_version": "1.2.0",
      "_view_name": "LayoutView",
      "align_content": null,
      "align_items": null,
      "align_self": null,
      "border": null,
      "bottom": null,
      "display": null,
      "flex": null,
      "flex_flow": null,
      "grid_area": null,
      "grid_auto_columns": null,
      "grid_auto_flow": null,
      "grid_auto_rows": null,
      "grid_column": null,
      "grid_gap": null,
      "grid_row": null,
      "grid_template_areas": null,
      "grid_template_columns": null,
      "grid_template_rows": null,
      "height": null,
      "justify_content": null,
      "justify_items": null,
      "left": null,
      "margin": null,
      "max_height": null,
      "max_width": null,
      "min_height": null,
      "min_width": null,
      "object_fit": null,
      "object_position": null,
      "order": null,
      "overflow": null,
      "overflow_x": null,
      "overflow_y": null,
      "padding": null,
      "right": null,
      "top": null,
      "visibility": null,
      "width": null
     }
    },
    "77c1f9361eb04f4f84c13b39a731b7c9": {
     "model_module": "@jupyter-widgets/controls",
     "model_name": "ProgressStyleModel",
     "model_module_version": "1.5.0",
     "state": {
      "_model_module": "@jupyter-widgets/controls",
      "_model_module_version": "1.5.0",
      "_model_name": "ProgressStyleModel",
      "_view_count": null,
      "_view_module": "@jupyter-widgets/base",
      "_view_module_version": "1.2.0",
      "_view_name": "StyleView",
      "bar_color": null,
      "description_width": ""
     }
    },
    "00e14eede39a443290f4063cc235b9bf": {
     "model_module": "@jupyter-widgets/base",
     "model_name": "LayoutModel",
     "model_module_version": "1.2.0",
     "state": {
      "_model_module": "@jupyter-widgets/base",
      "_model_module_version": "1.2.0",
      "_model_name": "LayoutModel",
      "_view_count": null,
      "_view_module": "@jupyter-widgets/base",
      "_view_module_version": "1.2.0",
      "_view_name": "LayoutView",
      "align_content": null,
      "align_items": null,
      "align_self": null,
      "border": null,
      "bottom": null,
      "display": null,
      "flex": null,
      "flex_flow": null,
      "grid_area": null,
      "grid_auto_columns": null,
      "grid_auto_flow": null,
      "grid_auto_rows": null,
      "grid_column": null,
      "grid_gap": null,
      "grid_row": null,
      "grid_template_areas": null,
      "grid_template_columns": null,
      "grid_template_rows": null,
      "height": null,
      "justify_content": null,
      "justify_items": null,
      "left": null,
      "margin": null,
      "max_height": null,
      "max_width": null,
      "min_height": null,
      "min_width": null,
      "object_fit": null,
      "object_position": null,
      "order": null,
      "overflow": null,
      "overflow_x": null,
      "overflow_y": null,
      "padding": null,
      "right": null,
      "top": null,
      "visibility": null,
      "width": null
     }
    },
    "65f84a03c1b7475d8852b4c112ece575": {
     "model_module": "@jupyter-widgets/controls",
     "model_name": "DescriptionStyleModel",
     "model_module_version": "1.5.0",
     "state": {
      "_model_module": "@jupyter-widgets/controls",
      "_model_module_version": "1.5.0",
      "_model_name": "DescriptionStyleModel",
      "_view_count": null,
      "_view_module": "@jupyter-widgets/base",
      "_view_module_version": "1.2.0",
      "_view_name": "StyleView",
      "description_width": ""
     }
    },
    "a99a1798eff84e33bcee2b2c59c00dcc": {
     "model_module": "@jupyter-widgets/controls",
     "model_name": "HBoxModel",
     "model_module_version": "1.5.0",
     "state": {
      "_dom_classes": [],
      "_model_module": "@jupyter-widgets/controls",
      "_model_module_version": "1.5.0",
      "_model_name": "HBoxModel",
      "_view_count": null,
      "_view_module": "@jupyter-widgets/controls",
      "_view_module_version": "1.5.0",
      "_view_name": "HBoxView",
      "box_style": "",
      "children": [
       "IPY_MODEL_79602f7875d1463588253adc1827023d",
       "IPY_MODEL_10d86ea0029e458ea80b25925fe8eef9",
       "IPY_MODEL_aada24f466534094bbce3ca872ca92df"
      ],
      "layout": "IPY_MODEL_16069460292a4e528afa2639238097a1"
     }
    },
    "79602f7875d1463588253adc1827023d": {
     "model_module": "@jupyter-widgets/controls",
     "model_name": "HTMLModel",
     "model_module_version": "1.5.0",
     "state": {
      "_dom_classes": [],
      "_model_module": "@jupyter-widgets/controls",
      "_model_module_version": "1.5.0",
      "_model_name": "HTMLModel",
      "_view_count": null,
      "_view_module": "@jupyter-widgets/controls",
      "_view_module_version": "1.5.0",
      "_view_name": "HTMLView",
      "description": "",
      "description_tooltip": null,
      "layout": "IPY_MODEL_6f2115b56f4f481286d54306f99b27bd",
      "placeholder": "​",
      "style": "IPY_MODEL_2bb8e6f80211463091abd9cc183e1012",
      "value": "tokenizer.json: 100%"
     }
    },
    "10d86ea0029e458ea80b25925fe8eef9": {
     "model_module": "@jupyter-widgets/controls",
     "model_name": "FloatProgressModel",
     "model_module_version": "1.5.0",
     "state": {
      "_dom_classes": [],
      "_model_module": "@jupyter-widgets/controls",
      "_model_module_version": "1.5.0",
      "_model_name": "FloatProgressModel",
      "_view_count": null,
      "_view_module": "@jupyter-widgets/controls",
      "_view_module_version": "1.5.0",
      "_view_name": "ProgressView",
      "bar_style": "success",
      "description": "",
      "description_tooltip": null,
      "layout": "IPY_MODEL_daf72bf0f71940709c022e5d2023d047",
      "max": 466062,
      "min": 0,
      "orientation": "horizontal",
      "style": "IPY_MODEL_dfdce7056cdf4dbb8093ebec443f9263",
      "value": 466062
     }
    },
    "aada24f466534094bbce3ca872ca92df": {
     "model_module": "@jupyter-widgets/controls",
     "model_name": "HTMLModel",
     "model_module_version": "1.5.0",
     "state": {
      "_dom_classes": [],
      "_model_module": "@jupyter-widgets/controls",
      "_model_module_version": "1.5.0",
      "_model_name": "HTMLModel",
      "_view_count": null,
      "_view_module": "@jupyter-widgets/controls",
      "_view_module_version": "1.5.0",
      "_view_name": "HTMLView",
      "description": "",
      "description_tooltip": null,
      "layout": "IPY_MODEL_84346d4aac294c80b55d133539a65f9c",
      "placeholder": "​",
      "style": "IPY_MODEL_5b6706659ecf4c8395d18641dffc4fcf",
      "value": " 466k/466k [00:00&lt;00:00, 4.84MB/s]"
     }
    },
    "16069460292a4e528afa2639238097a1": {
     "model_module": "@jupyter-widgets/base",
     "model_name": "LayoutModel",
     "model_module_version": "1.2.0",
     "state": {
      "_model_module": "@jupyter-widgets/base",
      "_model_module_version": "1.2.0",
      "_model_name": "LayoutModel",
      "_view_count": null,
      "_view_module": "@jupyter-widgets/base",
      "_view_module_version": "1.2.0",
      "_view_name": "LayoutView",
      "align_content": null,
      "align_items": null,
      "align_self": null,
      "border": null,
      "bottom": null,
      "display": null,
      "flex": null,
      "flex_flow": null,
      "grid_area": null,
      "grid_auto_columns": null,
      "grid_auto_flow": null,
      "grid_auto_rows": null,
      "grid_column": null,
      "grid_gap": null,
      "grid_row": null,
      "grid_template_areas": null,
      "grid_template_columns": null,
      "grid_template_rows": null,
      "height": null,
      "justify_content": null,
      "justify_items": null,
      "left": null,
      "margin": null,
      "max_height": null,
      "max_width": null,
      "min_height": null,
      "min_width": null,
      "object_fit": null,
      "object_position": null,
      "order": null,
      "overflow": null,
      "overflow_x": null,
      "overflow_y": null,
      "padding": null,
      "right": null,
      "top": null,
      "visibility": null,
      "width": null
     }
    },
    "6f2115b56f4f481286d54306f99b27bd": {
     "model_module": "@jupyter-widgets/base",
     "model_name": "LayoutModel",
     "model_module_version": "1.2.0",
     "state": {
      "_model_module": "@jupyter-widgets/base",
      "_model_module_version": "1.2.0",
      "_model_name": "LayoutModel",
      "_view_count": null,
      "_view_module": "@jupyter-widgets/base",
      "_view_module_version": "1.2.0",
      "_view_name": "LayoutView",
      "align_content": null,
      "align_items": null,
      "align_self": null,
      "border": null,
      "bottom": null,
      "display": null,
      "flex": null,
      "flex_flow": null,
      "grid_area": null,
      "grid_auto_columns": null,
      "grid_auto_flow": null,
      "grid_auto_rows": null,
      "grid_column": null,
      "grid_gap": null,
      "grid_row": null,
      "grid_template_areas": null,
      "grid_template_columns": null,
      "grid_template_rows": null,
      "height": null,
      "justify_content": null,
      "justify_items": null,
      "left": null,
      "margin": null,
      "max_height": null,
      "max_width": null,
      "min_height": null,
      "min_width": null,
      "object_fit": null,
      "object_position": null,
      "order": null,
      "overflow": null,
      "overflow_x": null,
      "overflow_y": null,
      "padding": null,
      "right": null,
      "top": null,
      "visibility": null,
      "width": null
     }
    },
    "2bb8e6f80211463091abd9cc183e1012": {
     "model_module": "@jupyter-widgets/controls",
     "model_name": "DescriptionStyleModel",
     "model_module_version": "1.5.0",
     "state": {
      "_model_module": "@jupyter-widgets/controls",
      "_model_module_version": "1.5.0",
      "_model_name": "DescriptionStyleModel",
      "_view_count": null,
      "_view_module": "@jupyter-widgets/base",
      "_view_module_version": "1.2.0",
      "_view_name": "StyleView",
      "description_width": ""
     }
    },
    "daf72bf0f71940709c022e5d2023d047": {
     "model_module": "@jupyter-widgets/base",
     "model_name": "LayoutModel",
     "model_module_version": "1.2.0",
     "state": {
      "_model_module": "@jupyter-widgets/base",
      "_model_module_version": "1.2.0",
      "_model_name": "LayoutModel",
      "_view_count": null,
      "_view_module": "@jupyter-widgets/base",
      "_view_module_version": "1.2.0",
      "_view_name": "LayoutView",
      "align_content": null,
      "align_items": null,
      "align_self": null,
      "border": null,
      "bottom": null,
      "display": null,
      "flex": null,
      "flex_flow": null,
      "grid_area": null,
      "grid_auto_columns": null,
      "grid_auto_flow": null,
      "grid_auto_rows": null,
      "grid_column": null,
      "grid_gap": null,
      "grid_row": null,
      "grid_template_areas": null,
      "grid_template_columns": null,
      "grid_template_rows": null,
      "height": null,
      "justify_content": null,
      "justify_items": null,
      "left": null,
      "margin": null,
      "max_height": null,
      "max_width": null,
      "min_height": null,
      "min_width": null,
      "object_fit": null,
      "object_position": null,
      "order": null,
      "overflow": null,
      "overflow_x": null,
      "overflow_y": null,
      "padding": null,
      "right": null,
      "top": null,
      "visibility": null,
      "width": null
     }
    },
    "dfdce7056cdf4dbb8093ebec443f9263": {
     "model_module": "@jupyter-widgets/controls",
     "model_name": "ProgressStyleModel",
     "model_module_version": "1.5.0",
     "state": {
      "_model_module": "@jupyter-widgets/controls",
      "_model_module_version": "1.5.0",
      "_model_name": "ProgressStyleModel",
      "_view_count": null,
      "_view_module": "@jupyter-widgets/base",
      "_view_module_version": "1.2.0",
      "_view_name": "StyleView",
      "bar_color": null,
      "description_width": ""
     }
    },
    "84346d4aac294c80b55d133539a65f9c": {
     "model_module": "@jupyter-widgets/base",
     "model_name": "LayoutModel",
     "model_module_version": "1.2.0",
     "state": {
      "_model_module": "@jupyter-widgets/base",
      "_model_module_version": "1.2.0",
      "_model_name": "LayoutModel",
      "_view_count": null,
      "_view_module": "@jupyter-widgets/base",
      "_view_module_version": "1.2.0",
      "_view_name": "LayoutView",
      "align_content": null,
      "align_items": null,
      "align_self": null,
      "border": null,
      "bottom": null,
      "display": null,
      "flex": null,
      "flex_flow": null,
      "grid_area": null,
      "grid_auto_columns": null,
      "grid_auto_flow": null,
      "grid_auto_rows": null,
      "grid_column": null,
      "grid_gap": null,
      "grid_row": null,
      "grid_template_areas": null,
      "grid_template_columns": null,
      "grid_template_rows": null,
      "height": null,
      "justify_content": null,
      "justify_items": null,
      "left": null,
      "margin": null,
      "max_height": null,
      "max_width": null,
      "min_height": null,
      "min_width": null,
      "object_fit": null,
      "object_position": null,
      "order": null,
      "overflow": null,
      "overflow_x": null,
      "overflow_y": null,
      "padding": null,
      "right": null,
      "top": null,
      "visibility": null,
      "width": null
     }
    },
    "5b6706659ecf4c8395d18641dffc4fcf": {
     "model_module": "@jupyter-widgets/controls",
     "model_name": "DescriptionStyleModel",
     "model_module_version": "1.5.0",
     "state": {
      "_model_module": "@jupyter-widgets/controls",
      "_model_module_version": "1.5.0",
      "_model_name": "DescriptionStyleModel",
      "_view_count": null,
      "_view_module": "@jupyter-widgets/base",
      "_view_module_version": "1.2.0",
      "_view_name": "StyleView",
      "description_width": ""
     }
    },
    "a2689dfe02a347bb93b585d869775a0b": {
     "model_module": "@jupyter-widgets/controls",
     "model_name": "HBoxModel",
     "model_module_version": "1.5.0",
     "state": {
      "_dom_classes": [],
      "_model_module": "@jupyter-widgets/controls",
      "_model_module_version": "1.5.0",
      "_model_name": "HBoxModel",
      "_view_count": null,
      "_view_module": "@jupyter-widgets/controls",
      "_view_module_version": "1.5.0",
      "_view_name": "HBoxView",
      "box_style": "",
      "children": [
       "IPY_MODEL_4d99b0622ca540d48f290075d6deddca",
       "IPY_MODEL_85b5fc2ab5f7458eb9f7fcc3c9933944",
       "IPY_MODEL_e14b7fc2ae9649a4ab50f2f8aa44aabb"
      ],
      "layout": "IPY_MODEL_4570611686244c0d86d2929c15431daa"
     }
    },
    "4d99b0622ca540d48f290075d6deddca": {
     "model_module": "@jupyter-widgets/controls",
     "model_name": "HTMLModel",
     "model_module_version": "1.5.0",
     "state": {
      "_dom_classes": [],
      "_model_module": "@jupyter-widgets/controls",
      "_model_module_version": "1.5.0",
      "_model_name": "HTMLModel",
      "_view_count": null,
      "_view_module": "@jupyter-widgets/controls",
      "_view_module_version": "1.5.0",
      "_view_name": "HTMLView",
      "description": "",
      "description_tooltip": null,
      "layout": "IPY_MODEL_e1f2ab9bc1464f4ab55577e5ce9df3e6",
      "placeholder": "​",
      "style": "IPY_MODEL_e7aa939b2a914e938daff96027e97dfa",
      "value": "config.json: 100%"
     }
    },
    "85b5fc2ab5f7458eb9f7fcc3c9933944": {
     "model_module": "@jupyter-widgets/controls",
     "model_name": "FloatProgressModel",
     "model_module_version": "1.5.0",
     "state": {
      "_dom_classes": [],
      "_model_module": "@jupyter-widgets/controls",
      "_model_module_version": "1.5.0",
      "_model_name": "FloatProgressModel",
      "_view_count": null,
      "_view_module": "@jupyter-widgets/controls",
      "_view_module_version": "1.5.0",
      "_view_name": "ProgressView",
      "bar_style": "success",
      "description": "",
      "description_tooltip": null,
      "layout": "IPY_MODEL_579f207b0f59442cb0f7a76648841b6e",
      "max": 570,
      "min": 0,
      "orientation": "horizontal",
      "style": "IPY_MODEL_8f1cb12e68a94abf86a94c4ef7ee45e5",
      "value": 570
     }
    },
    "e14b7fc2ae9649a4ab50f2f8aa44aabb": {
     "model_module": "@jupyter-widgets/controls",
     "model_name": "HTMLModel",
     "model_module_version": "1.5.0",
     "state": {
      "_dom_classes": [],
      "_model_module": "@jupyter-widgets/controls",
      "_model_module_version": "1.5.0",
      "_model_name": "HTMLModel",
      "_view_count": null,
      "_view_module": "@jupyter-widgets/controls",
      "_view_module_version": "1.5.0",
      "_view_name": "HTMLView",
      "description": "",
      "description_tooltip": null,
      "layout": "IPY_MODEL_df6d430f7e5146cdaeece7006e2964e7",
      "placeholder": "​",
      "style": "IPY_MODEL_e588ea39fb334600ab916f417720453b",
      "value": " 570/570 [00:00&lt;00:00, 13.4kB/s]"
     }
    },
    "4570611686244c0d86d2929c15431daa": {
     "model_module": "@jupyter-widgets/base",
     "model_name": "LayoutModel",
     "model_module_version": "1.2.0",
     "state": {
      "_model_module": "@jupyter-widgets/base",
      "_model_module_version": "1.2.0",
      "_model_name": "LayoutModel",
      "_view_count": null,
      "_view_module": "@jupyter-widgets/base",
      "_view_module_version": "1.2.0",
      "_view_name": "LayoutView",
      "align_content": null,
      "align_items": null,
      "align_self": null,
      "border": null,
      "bottom": null,
      "display": null,
      "flex": null,
      "flex_flow": null,
      "grid_area": null,
      "grid_auto_columns": null,
      "grid_auto_flow": null,
      "grid_auto_rows": null,
      "grid_column": null,
      "grid_gap": null,
      "grid_row": null,
      "grid_template_areas": null,
      "grid_template_columns": null,
      "grid_template_rows": null,
      "height": null,
      "justify_content": null,
      "justify_items": null,
      "left": null,
      "margin": null,
      "max_height": null,
      "max_width": null,
      "min_height": null,
      "min_width": null,
      "object_fit": null,
      "object_position": null,
      "order": null,
      "overflow": null,
      "overflow_x": null,
      "overflow_y": null,
      "padding": null,
      "right": null,
      "top": null,
      "visibility": null,
      "width": null
     }
    },
    "e1f2ab9bc1464f4ab55577e5ce9df3e6": {
     "model_module": "@jupyter-widgets/base",
     "model_name": "LayoutModel",
     "model_module_version": "1.2.0",
     "state": {
      "_model_module": "@jupyter-widgets/base",
      "_model_module_version": "1.2.0",
      "_model_name": "LayoutModel",
      "_view_count": null,
      "_view_module": "@jupyter-widgets/base",
      "_view_module_version": "1.2.0",
      "_view_name": "LayoutView",
      "align_content": null,
      "align_items": null,
      "align_self": null,
      "border": null,
      "bottom": null,
      "display": null,
      "flex": null,
      "flex_flow": null,
      "grid_area": null,
      "grid_auto_columns": null,
      "grid_auto_flow": null,
      "grid_auto_rows": null,
      "grid_column": null,
      "grid_gap": null,
      "grid_row": null,
      "grid_template_areas": null,
      "grid_template_columns": null,
      "grid_template_rows": null,
      "height": null,
      "justify_content": null,
      "justify_items": null,
      "left": null,
      "margin": null,
      "max_height": null,
      "max_width": null,
      "min_height": null,
      "min_width": null,
      "object_fit": null,
      "object_position": null,
      "order": null,
      "overflow": null,
      "overflow_x": null,
      "overflow_y": null,
      "padding": null,
      "right": null,
      "top": null,
      "visibility": null,
      "width": null
     }
    },
    "e7aa939b2a914e938daff96027e97dfa": {
     "model_module": "@jupyter-widgets/controls",
     "model_name": "DescriptionStyleModel",
     "model_module_version": "1.5.0",
     "state": {
      "_model_module": "@jupyter-widgets/controls",
      "_model_module_version": "1.5.0",
      "_model_name": "DescriptionStyleModel",
      "_view_count": null,
      "_view_module": "@jupyter-widgets/base",
      "_view_module_version": "1.2.0",
      "_view_name": "StyleView",
      "description_width": ""
     }
    },
    "579f207b0f59442cb0f7a76648841b6e": {
     "model_module": "@jupyter-widgets/base",
     "model_name": "LayoutModel",
     "model_module_version": "1.2.0",
     "state": {
      "_model_module": "@jupyter-widgets/base",
      "_model_module_version": "1.2.0",
      "_model_name": "LayoutModel",
      "_view_count": null,
      "_view_module": "@jupyter-widgets/base",
      "_view_module_version": "1.2.0",
      "_view_name": "LayoutView",
      "align_content": null,
      "align_items": null,
      "align_self": null,
      "border": null,
      "bottom": null,
      "display": null,
      "flex": null,
      "flex_flow": null,
      "grid_area": null,
      "grid_auto_columns": null,
      "grid_auto_flow": null,
      "grid_auto_rows": null,
      "grid_column": null,
      "grid_gap": null,
      "grid_row": null,
      "grid_template_areas": null,
      "grid_template_columns": null,
      "grid_template_rows": null,
      "height": null,
      "justify_content": null,
      "justify_items": null,
      "left": null,
      "margin": null,
      "max_height": null,
      "max_width": null,
      "min_height": null,
      "min_width": null,
      "object_fit": null,
      "object_position": null,
      "order": null,
      "overflow": null,
      "overflow_x": null,
      "overflow_y": null,
      "padding": null,
      "right": null,
      "top": null,
      "visibility": null,
      "width": null
     }
    },
    "8f1cb12e68a94abf86a94c4ef7ee45e5": {
     "model_module": "@jupyter-widgets/controls",
     "model_name": "ProgressStyleModel",
     "model_module_version": "1.5.0",
     "state": {
      "_model_module": "@jupyter-widgets/controls",
      "_model_module_version": "1.5.0",
      "_model_name": "ProgressStyleModel",
      "_view_count": null,
      "_view_module": "@jupyter-widgets/base",
      "_view_module_version": "1.2.0",
      "_view_name": "StyleView",
      "bar_color": null,
      "description_width": ""
     }
    },
    "df6d430f7e5146cdaeece7006e2964e7": {
     "model_module": "@jupyter-widgets/base",
     "model_name": "LayoutModel",
     "model_module_version": "1.2.0",
     "state": {
      "_model_module": "@jupyter-widgets/base",
      "_model_module_version": "1.2.0",
      "_model_name": "LayoutModel",
      "_view_count": null,
      "_view_module": "@jupyter-widgets/base",
      "_view_module_version": "1.2.0",
      "_view_name": "LayoutView",
      "align_content": null,
      "align_items": null,
      "align_self": null,
      "border": null,
      "bottom": null,
      "display": null,
      "flex": null,
      "flex_flow": null,
      "grid_area": null,
      "grid_auto_columns": null,
      "grid_auto_flow": null,
      "grid_auto_rows": null,
      "grid_column": null,
      "grid_gap": null,
      "grid_row": null,
      "grid_template_areas": null,
      "grid_template_columns": null,
      "grid_template_rows": null,
      "height": null,
      "justify_content": null,
      "justify_items": null,
      "left": null,
      "margin": null,
      "max_height": null,
      "max_width": null,
      "min_height": null,
      "min_width": null,
      "object_fit": null,
      "object_position": null,
      "order": null,
      "overflow": null,
      "overflow_x": null,
      "overflow_y": null,
      "padding": null,
      "right": null,
      "top": null,
      "visibility": null,
      "width": null
     }
    },
    "e588ea39fb334600ab916f417720453b": {
     "model_module": "@jupyter-widgets/controls",
     "model_name": "DescriptionStyleModel",
     "model_module_version": "1.5.0",
     "state": {
      "_model_module": "@jupyter-widgets/controls",
      "_model_module_version": "1.5.0",
      "_model_name": "DescriptionStyleModel",
      "_view_count": null,
      "_view_module": "@jupyter-widgets/base",
      "_view_module_version": "1.2.0",
      "_view_name": "StyleView",
      "description_width": ""
     }
    },
    "89a5c6a750dc466182db23a1288f4e18": {
     "model_module": "@jupyter-widgets/controls",
     "model_name": "HBoxModel",
     "model_module_version": "1.5.0",
     "state": {
      "_dom_classes": [],
      "_model_module": "@jupyter-widgets/controls",
      "_model_module_version": "1.5.0",
      "_model_name": "HBoxModel",
      "_view_count": null,
      "_view_module": "@jupyter-widgets/controls",
      "_view_module_version": "1.5.0",
      "_view_name": "HBoxView",
      "box_style": "",
      "children": [
       "IPY_MODEL_ced5835e9f944fbab4ffb9f55004bcb3",
       "IPY_MODEL_8fdce62c0e874ed99cc8704660ede0d9",
       "IPY_MODEL_6684dc140f1c46a4b126a0a9756242dc"
      ],
      "layout": "IPY_MODEL_7a6cfd17d13c419b8b4dff36069243ef"
     }
    },
    "ced5835e9f944fbab4ffb9f55004bcb3": {
     "model_module": "@jupyter-widgets/controls",
     "model_name": "HTMLModel",
     "model_module_version": "1.5.0",
     "state": {
      "_dom_classes": [],
      "_model_module": "@jupyter-widgets/controls",
      "_model_module_version": "1.5.0",
      "_model_name": "HTMLModel",
      "_view_count": null,
      "_view_module": "@jupyter-widgets/controls",
      "_view_module_version": "1.5.0",
      "_view_name": "HTMLView",
      "description": "",
      "description_tooltip": null,
      "layout": "IPY_MODEL_8a5f1bc8c5bf46cea35e03c1d6acaf6f",
      "placeholder": "​",
      "style": "IPY_MODEL_0db956edfed142cdaf13771b0c2c4baa",
      "value": "model.safetensors: 100%"
     }
    },
    "8fdce62c0e874ed99cc8704660ede0d9": {
     "model_module": "@jupyter-widgets/controls",
     "model_name": "FloatProgressModel",
     "model_module_version": "1.5.0",
     "state": {
      "_dom_classes": [],
      "_model_module": "@jupyter-widgets/controls",
      "_model_module_version": "1.5.0",
      "_model_name": "FloatProgressModel",
      "_view_count": null,
      "_view_module": "@jupyter-widgets/controls",
      "_view_module_version": "1.5.0",
      "_view_name": "ProgressView",
      "bar_style": "success",
      "description": "",
      "description_tooltip": null,
      "layout": "IPY_MODEL_d07b43c1e07847babaa5c8236b17e3bd",
      "max": 440449768,
      "min": 0,
      "orientation": "horizontal",
      "style": "IPY_MODEL_c51aa1500a35433ab9b7e5195af5a99d",
      "value": 440449768
     }
    },
    "6684dc140f1c46a4b126a0a9756242dc": {
     "model_module": "@jupyter-widgets/controls",
     "model_name": "HTMLModel",
     "model_module_version": "1.5.0",
     "state": {
      "_dom_classes": [],
      "_model_module": "@jupyter-widgets/controls",
      "_model_module_version": "1.5.0",
      "_model_name": "HTMLModel",
      "_view_count": null,
      "_view_module": "@jupyter-widgets/controls",
      "_view_module_version": "1.5.0",
      "_view_name": "HTMLView",
      "description": "",
      "description_tooltip": null,
      "layout": "IPY_MODEL_6c6bf05ebd8940768ab3605b6db3bfba",
      "placeholder": "​",
      "style": "IPY_MODEL_94551b5d97e44b54bf45690f5110b323",
      "value": " 440M/440M [00:06&lt;00:00, 92.6MB/s]"
     }
    },
    "7a6cfd17d13c419b8b4dff36069243ef": {
     "model_module": "@jupyter-widgets/base",
     "model_name": "LayoutModel",
     "model_module_version": "1.2.0",
     "state": {
      "_model_module": "@jupyter-widgets/base",
      "_model_module_version": "1.2.0",
      "_model_name": "LayoutModel",
      "_view_count": null,
      "_view_module": "@jupyter-widgets/base",
      "_view_module_version": "1.2.0",
      "_view_name": "LayoutView",
      "align_content": null,
      "align_items": null,
      "align_self": null,
      "border": null,
      "bottom": null,
      "display": null,
      "flex": null,
      "flex_flow": null,
      "grid_area": null,
      "grid_auto_columns": null,
      "grid_auto_flow": null,
      "grid_auto_rows": null,
      "grid_column": null,
      "grid_gap": null,
      "grid_row": null,
      "grid_template_areas": null,
      "grid_template_columns": null,
      "grid_template_rows": null,
      "height": null,
      "justify_content": null,
      "justify_items": null,
      "left": null,
      "margin": null,
      "max_height": null,
      "max_width": null,
      "min_height": null,
      "min_width": null,
      "object_fit": null,
      "object_position": null,
      "order": null,
      "overflow": null,
      "overflow_x": null,
      "overflow_y": null,
      "padding": null,
      "right": null,
      "top": null,
      "visibility": null,
      "width": null
     }
    },
    "8a5f1bc8c5bf46cea35e03c1d6acaf6f": {
     "model_module": "@jupyter-widgets/base",
     "model_name": "LayoutModel",
     "model_module_version": "1.2.0",
     "state": {
      "_model_module": "@jupyter-widgets/base",
      "_model_module_version": "1.2.0",
      "_model_name": "LayoutModel",
      "_view_count": null,
      "_view_module": "@jupyter-widgets/base",
      "_view_module_version": "1.2.0",
      "_view_name": "LayoutView",
      "align_content": null,
      "align_items": null,
      "align_self": null,
      "border": null,
      "bottom": null,
      "display": null,
      "flex": null,
      "flex_flow": null,
      "grid_area": null,
      "grid_auto_columns": null,
      "grid_auto_flow": null,
      "grid_auto_rows": null,
      "grid_column": null,
      "grid_gap": null,
      "grid_row": null,
      "grid_template_areas": null,
      "grid_template_columns": null,
      "grid_template_rows": null,
      "height": null,
      "justify_content": null,
      "justify_items": null,
      "left": null,
      "margin": null,
      "max_height": null,
      "max_width": null,
      "min_height": null,
      "min_width": null,
      "object_fit": null,
      "object_position": null,
      "order": null,
      "overflow": null,
      "overflow_x": null,
      "overflow_y": null,
      "padding": null,
      "right": null,
      "top": null,
      "visibility": null,
      "width": null
     }
    },
    "0db956edfed142cdaf13771b0c2c4baa": {
     "model_module": "@jupyter-widgets/controls",
     "model_name": "DescriptionStyleModel",
     "model_module_version": "1.5.0",
     "state": {
      "_model_module": "@jupyter-widgets/controls",
      "_model_module_version": "1.5.0",
      "_model_name": "DescriptionStyleModel",
      "_view_count": null,
      "_view_module": "@jupyter-widgets/base",
      "_view_module_version": "1.2.0",
      "_view_name": "StyleView",
      "description_width": ""
     }
    },
    "d07b43c1e07847babaa5c8236b17e3bd": {
     "model_module": "@jupyter-widgets/base",
     "model_name": "LayoutModel",
     "model_module_version": "1.2.0",
     "state": {
      "_model_module": "@jupyter-widgets/base",
      "_model_module_version": "1.2.0",
      "_model_name": "LayoutModel",
      "_view_count": null,
      "_view_module": "@jupyter-widgets/base",
      "_view_module_version": "1.2.0",
      "_view_name": "LayoutView",
      "align_content": null,
      "align_items": null,
      "align_self": null,
      "border": null,
      "bottom": null,
      "display": null,
      "flex": null,
      "flex_flow": null,
      "grid_area": null,
      "grid_auto_columns": null,
      "grid_auto_flow": null,
      "grid_auto_rows": null,
      "grid_column": null,
      "grid_gap": null,
      "grid_row": null,
      "grid_template_areas": null,
      "grid_template_columns": null,
      "grid_template_rows": null,
      "height": null,
      "justify_content": null,
      "justify_items": null,
      "left": null,
      "margin": null,
      "max_height": null,
      "max_width": null,
      "min_height": null,
      "min_width": null,
      "object_fit": null,
      "object_position": null,
      "order": null,
      "overflow": null,
      "overflow_x": null,
      "overflow_y": null,
      "padding": null,
      "right": null,
      "top": null,
      "visibility": null,
      "width": null
     }
    },
    "c51aa1500a35433ab9b7e5195af5a99d": {
     "model_module": "@jupyter-widgets/controls",
     "model_name": "ProgressStyleModel",
     "model_module_version": "1.5.0",
     "state": {
      "_model_module": "@jupyter-widgets/controls",
      "_model_module_version": "1.5.0",
      "_model_name": "ProgressStyleModel",
      "_view_count": null,
      "_view_module": "@jupyter-widgets/base",
      "_view_module_version": "1.2.0",
      "_view_name": "StyleView",
      "bar_color": null,
      "description_width": ""
     }
    },
    "6c6bf05ebd8940768ab3605b6db3bfba": {
     "model_module": "@jupyter-widgets/base",
     "model_name": "LayoutModel",
     "model_module_version": "1.2.0",
     "state": {
      "_model_module": "@jupyter-widgets/base",
      "_model_module_version": "1.2.0",
      "_model_name": "LayoutModel",
      "_view_count": null,
      "_view_module": "@jupyter-widgets/base",
      "_view_module_version": "1.2.0",
      "_view_name": "LayoutView",
      "align_content": null,
      "align_items": null,
      "align_self": null,
      "border": null,
      "bottom": null,
      "display": null,
      "flex": null,
      "flex_flow": null,
      "grid_area": null,
      "grid_auto_columns": null,
      "grid_auto_flow": null,
      "grid_auto_rows": null,
      "grid_column": null,
      "grid_gap": null,
      "grid_row": null,
      "grid_template_areas": null,
      "grid_template_columns": null,
      "grid_template_rows": null,
      "height": null,
      "justify_content": null,
      "justify_items": null,
      "left": null,
      "margin": null,
      "max_height": null,
      "max_width": null,
      "min_height": null,
      "min_width": null,
      "object_fit": null,
      "object_position": null,
      "order": null,
      "overflow": null,
      "overflow_x": null,
      "overflow_y": null,
      "padding": null,
      "right": null,
      "top": null,
      "visibility": null,
      "width": null
     }
    },
    "94551b5d97e44b54bf45690f5110b323": {
     "model_module": "@jupyter-widgets/controls",
     "model_name": "DescriptionStyleModel",
     "model_module_version": "1.5.0",
     "state": {
      "_model_module": "@jupyter-widgets/controls",
      "_model_module_version": "1.5.0",
      "_model_name": "DescriptionStyleModel",
      "_view_count": null,
      "_view_module": "@jupyter-widgets/base",
      "_view_module_version": "1.2.0",
      "_view_name": "StyleView",
      "description_width": ""
     }
    },
    "032dead4b4944f32b6cce55e20d8645a": {
     "model_module": "@jupyter-widgets/controls",
     "model_name": "HBoxModel",
     "model_module_version": "1.5.0",
     "state": {
      "_dom_classes": [],
      "_model_module": "@jupyter-widgets/controls",
      "_model_module_version": "1.5.0",
      "_model_name": "HBoxModel",
      "_view_count": null,
      "_view_module": "@jupyter-widgets/controls",
      "_view_module_version": "1.5.0",
      "_view_name": "HBoxView",
      "box_style": "",
      "children": [
       "IPY_MODEL_188457226e7d4cdd9bca8d6f134f7e1b",
       "IPY_MODEL_ab747b0014ab42baae163fb989794ebb",
       "IPY_MODEL_e70fbd7eced74c7eaf1c377af4ff6630"
      ],
      "layout": "IPY_MODEL_caf8c0eb32b541c094ce0a8410579e6e"
     }
    },
    "188457226e7d4cdd9bca8d6f134f7e1b": {
     "model_module": "@jupyter-widgets/controls",
     "model_name": "HTMLModel",
     "model_module_version": "1.5.0",
     "state": {
      "_dom_classes": [],
      "_model_module": "@jupyter-widgets/controls",
      "_model_module_version": "1.5.0",
      "_model_name": "HTMLModel",
      "_view_count": null,
      "_view_module": "@jupyter-widgets/controls",
      "_view_module_version": "1.5.0",
      "_view_name": "HTMLView",
      "description": "",
      "description_tooltip": null,
      "layout": "IPY_MODEL_b30b0e06caed4cdeabcd19ba95ce57ae",
      "placeholder": "​",
      "style": "IPY_MODEL_9b7c4a3ba77e42b4ab07c3d367513bfb",
      "value": "Map: 100%"
     }
    },
    "ab747b0014ab42baae163fb989794ebb": {
     "model_module": "@jupyter-widgets/controls",
     "model_name": "FloatProgressModel",
     "model_module_version": "1.5.0",
     "state": {
      "_dom_classes": [],
      "_model_module": "@jupyter-widgets/controls",
      "_model_module_version": "1.5.0",
      "_model_name": "FloatProgressModel",
      "_view_count": null,
      "_view_module": "@jupyter-widgets/controls",
      "_view_module_version": "1.5.0",
      "_view_name": "ProgressView",
      "bar_style": "success",
      "description": "",
      "description_tooltip": null,
      "layout": "IPY_MODEL_a3e296bbe52f43fa87806e7d30c59198",
      "max": 300,
      "min": 0,
      "orientation": "horizontal",
      "style": "IPY_MODEL_aa4eea38eb644f21b2890d89a085fa9f",
      "value": 300
     }
    },
    "e70fbd7eced74c7eaf1c377af4ff6630": {
     "model_module": "@jupyter-widgets/controls",
     "model_name": "HTMLModel",
     "model_module_version": "1.5.0",
     "state": {
      "_dom_classes": [],
      "_model_module": "@jupyter-widgets/controls",
      "_model_module_version": "1.5.0",
      "_model_name": "HTMLModel",
      "_view_count": null,
      "_view_module": "@jupyter-widgets/controls",
      "_view_module_version": "1.5.0",
      "_view_name": "HTMLView",
      "description": "",
      "description_tooltip": null,
      "layout": "IPY_MODEL_6bb250dbdfe64a2ab9689e787e98ee25",
      "placeholder": "​",
      "style": "IPY_MODEL_b0934269b2754b23b7742a3a7fc7e576",
      "value": " 300/300 [00:00&lt;00:00, 600.77 examples/s]"
     }
    },
    "caf8c0eb32b541c094ce0a8410579e6e": {
     "model_module": "@jupyter-widgets/base",
     "model_name": "LayoutModel",
     "model_module_version": "1.2.0",
     "state": {
      "_model_module": "@jupyter-widgets/base",
      "_model_module_version": "1.2.0",
      "_model_name": "LayoutModel",
      "_view_count": null,
      "_view_module": "@jupyter-widgets/base",
      "_view_module_version": "1.2.0",
      "_view_name": "LayoutView",
      "align_content": null,
      "align_items": null,
      "align_self": null,
      "border": null,
      "bottom": null,
      "display": null,
      "flex": null,
      "flex_flow": null,
      "grid_area": null,
      "grid_auto_columns": null,
      "grid_auto_flow": null,
      "grid_auto_rows": null,
      "grid_column": null,
      "grid_gap": null,
      "grid_row": null,
      "grid_template_areas": null,
      "grid_template_columns": null,
      "grid_template_rows": null,
      "height": null,
      "justify_content": null,
      "justify_items": null,
      "left": null,
      "margin": null,
      "max_height": null,
      "max_width": null,
      "min_height": null,
      "min_width": null,
      "object_fit": null,
      "object_position": null,
      "order": null,
      "overflow": null,
      "overflow_x": null,
      "overflow_y": null,
      "padding": null,
      "right": null,
      "top": null,
      "visibility": null,
      "width": null
     }
    },
    "b30b0e06caed4cdeabcd19ba95ce57ae": {
     "model_module": "@jupyter-widgets/base",
     "model_name": "LayoutModel",
     "model_module_version": "1.2.0",
     "state": {
      "_model_module": "@jupyter-widgets/base",
      "_model_module_version": "1.2.0",
      "_model_name": "LayoutModel",
      "_view_count": null,
      "_view_module": "@jupyter-widgets/base",
      "_view_module_version": "1.2.0",
      "_view_name": "LayoutView",
      "align_content": null,
      "align_items": null,
      "align_self": null,
      "border": null,
      "bottom": null,
      "display": null,
      "flex": null,
      "flex_flow": null,
      "grid_area": null,
      "grid_auto_columns": null,
      "grid_auto_flow": null,
      "grid_auto_rows": null,
      "grid_column": null,
      "grid_gap": null,
      "grid_row": null,
      "grid_template_areas": null,
      "grid_template_columns": null,
      "grid_template_rows": null,
      "height": null,
      "justify_content": null,
      "justify_items": null,
      "left": null,
      "margin": null,
      "max_height": null,
      "max_width": null,
      "min_height": null,
      "min_width": null,
      "object_fit": null,
      "object_position": null,
      "order": null,
      "overflow": null,
      "overflow_x": null,
      "overflow_y": null,
      "padding": null,
      "right": null,
      "top": null,
      "visibility": null,
      "width": null
     }
    },
    "9b7c4a3ba77e42b4ab07c3d367513bfb": {
     "model_module": "@jupyter-widgets/controls",
     "model_name": "DescriptionStyleModel",
     "model_module_version": "1.5.0",
     "state": {
      "_model_module": "@jupyter-widgets/controls",
      "_model_module_version": "1.5.0",
      "_model_name": "DescriptionStyleModel",
      "_view_count": null,
      "_view_module": "@jupyter-widgets/base",
      "_view_module_version": "1.2.0",
      "_view_name": "StyleView",
      "description_width": ""
     }
    },
    "a3e296bbe52f43fa87806e7d30c59198": {
     "model_module": "@jupyter-widgets/base",
     "model_name": "LayoutModel",
     "model_module_version": "1.2.0",
     "state": {
      "_model_module": "@jupyter-widgets/base",
      "_model_module_version": "1.2.0",
      "_model_name": "LayoutModel",
      "_view_count": null,
      "_view_module": "@jupyter-widgets/base",
      "_view_module_version": "1.2.0",
      "_view_name": "LayoutView",
      "align_content": null,
      "align_items": null,
      "align_self": null,
      "border": null,
      "bottom": null,
      "display": null,
      "flex": null,
      "flex_flow": null,
      "grid_area": null,
      "grid_auto_columns": null,
      "grid_auto_flow": null,
      "grid_auto_rows": null,
      "grid_column": null,
      "grid_gap": null,
      "grid_row": null,
      "grid_template_areas": null,
      "grid_template_columns": null,
      "grid_template_rows": null,
      "height": null,
      "justify_content": null,
      "justify_items": null,
      "left": null,
      "margin": null,
      "max_height": null,
      "max_width": null,
      "min_height": null,
      "min_width": null,
      "object_fit": null,
      "object_position": null,
      "order": null,
      "overflow": null,
      "overflow_x": null,
      "overflow_y": null,
      "padding": null,
      "right": null,
      "top": null,
      "visibility": null,
      "width": null
     }
    },
    "aa4eea38eb644f21b2890d89a085fa9f": {
     "model_module": "@jupyter-widgets/controls",
     "model_name": "ProgressStyleModel",
     "model_module_version": "1.5.0",
     "state": {
      "_model_module": "@jupyter-widgets/controls",
      "_model_module_version": "1.5.0",
      "_model_name": "ProgressStyleModel",
      "_view_count": null,
      "_view_module": "@jupyter-widgets/base",
      "_view_module_version": "1.2.0",
      "_view_name": "StyleView",
      "bar_color": null,
      "description_width": ""
     }
    },
    "6bb250dbdfe64a2ab9689e787e98ee25": {
     "model_module": "@jupyter-widgets/base",
     "model_name": "LayoutModel",
     "model_module_version": "1.2.0",
     "state": {
      "_model_module": "@jupyter-widgets/base",
      "_model_module_version": "1.2.0",
      "_model_name": "LayoutModel",
      "_view_count": null,
      "_view_module": "@jupyter-widgets/base",
      "_view_module_version": "1.2.0",
      "_view_name": "LayoutView",
      "align_content": null,
      "align_items": null,
      "align_self": null,
      "border": null,
      "bottom": null,
      "display": null,
      "flex": null,
      "flex_flow": null,
      "grid_area": null,
      "grid_auto_columns": null,
      "grid_auto_flow": null,
      "grid_auto_rows": null,
      "grid_column": null,
      "grid_gap": null,
      "grid_row": null,
      "grid_template_areas": null,
      "grid_template_columns": null,
      "grid_template_rows": null,
      "height": null,
      "justify_content": null,
      "justify_items": null,
      "left": null,
      "margin": null,
      "max_height": null,
      "max_width": null,
      "min_height": null,
      "min_width": null,
      "object_fit": null,
      "object_position": null,
      "order": null,
      "overflow": null,
      "overflow_x": null,
      "overflow_y": null,
      "padding": null,
      "right": null,
      "top": null,
      "visibility": null,
      "width": null
     }
    },
    "b0934269b2754b23b7742a3a7fc7e576": {
     "model_module": "@jupyter-widgets/controls",
     "model_name": "DescriptionStyleModel",
     "model_module_version": "1.5.0",
     "state": {
      "_model_module": "@jupyter-widgets/controls",
      "_model_module_version": "1.5.0",
      "_model_name": "DescriptionStyleModel",
      "_view_count": null,
      "_view_module": "@jupyter-widgets/base",
      "_view_module_version": "1.2.0",
      "_view_name": "StyleView",
      "description_width": ""
     }
    },
    "0d227e5f5244432fad16311e38b8c8b5": {
     "model_module": "@jupyter-widgets/controls",
     "model_name": "HBoxModel",
     "model_module_version": "1.5.0",
     "state": {
      "_dom_classes": [],
      "_model_module": "@jupyter-widgets/controls",
      "_model_module_version": "1.5.0",
      "_model_name": "HBoxModel",
      "_view_count": null,
      "_view_module": "@jupyter-widgets/controls",
      "_view_module_version": "1.5.0",
      "_view_name": "HBoxView",
      "box_style": "",
      "children": [
       "IPY_MODEL_3f40ee850e124b5788e01acab5c7a2d9",
       "IPY_MODEL_cb128525a9b84f9ea4b3579091036750",
       "IPY_MODEL_ed9b30fed85a496db62111db2d42bbf4"
      ],
      "layout": "IPY_MODEL_099414ad70974ff5921183593d8e06f9"
     }
    },
    "3f40ee850e124b5788e01acab5c7a2d9": {
     "model_module": "@jupyter-widgets/controls",
     "model_name": "HTMLModel",
     "model_module_version": "1.5.0",
     "state": {
      "_dom_classes": [],
      "_model_module": "@jupyter-widgets/controls",
      "_model_module_version": "1.5.0",
      "_model_name": "HTMLModel",
      "_view_count": null,
      "_view_module": "@jupyter-widgets/controls",
      "_view_module_version": "1.5.0",
      "_view_name": "HTMLView",
      "description": "",
      "description_tooltip": null,
      "layout": "IPY_MODEL_48dd2ba983ac4383af5cf6e4b35bf803",
      "placeholder": "​",
      "style": "IPY_MODEL_f472344b7cf442a4b429baffff7218a4",
      "value": "Map: 100%"
     }
    },
    "cb128525a9b84f9ea4b3579091036750": {
     "model_module": "@jupyter-widgets/controls",
     "model_name": "FloatProgressModel",
     "model_module_version": "1.5.0",
     "state": {
      "_dom_classes": [],
      "_model_module": "@jupyter-widgets/controls",
      "_model_module_version": "1.5.0",
      "_model_name": "FloatProgressModel",
      "_view_count": null,
      "_view_module": "@jupyter-widgets/controls",
      "_view_module_version": "1.5.0",
      "_view_name": "ProgressView",
      "bar_style": "success",
      "description": "",
      "description_tooltip": null,
      "layout": "IPY_MODEL_7c27f2abdb0748ebac158c5713338d18",
      "max": 100,
      "min": 0,
      "orientation": "horizontal",
      "style": "IPY_MODEL_6caae180c72e44c5a2ad9c6c24dda9c8",
      "value": 100
     }
    },
    "ed9b30fed85a496db62111db2d42bbf4": {
     "model_module": "@jupyter-widgets/controls",
     "model_name": "HTMLModel",
     "model_module_version": "1.5.0",
     "state": {
      "_dom_classes": [],
      "_model_module": "@jupyter-widgets/controls",
      "_model_module_version": "1.5.0",
      "_model_name": "HTMLModel",
      "_view_count": null,
      "_view_module": "@jupyter-widgets/controls",
      "_view_module_version": "1.5.0",
      "_view_name": "HTMLView",
      "description": "",
      "description_tooltip": null,
      "layout": "IPY_MODEL_77b981230eb74e7980cff2b51a5d47b9",
      "placeholder": "​",
      "style": "IPY_MODEL_64891038d29c410299d1913c6c3648fb",
      "value": " 100/100 [00:00&lt;00:00, 552.88 examples/s]"
     }
    },
    "099414ad70974ff5921183593d8e06f9": {
     "model_module": "@jupyter-widgets/base",
     "model_name": "LayoutModel",
     "model_module_version": "1.2.0",
     "state": {
      "_model_module": "@jupyter-widgets/base",
      "_model_module_version": "1.2.0",
      "_model_name": "LayoutModel",
      "_view_count": null,
      "_view_module": "@jupyter-widgets/base",
      "_view_module_version": "1.2.0",
      "_view_name": "LayoutView",
      "align_content": null,
      "align_items": null,
      "align_self": null,
      "border": null,
      "bottom": null,
      "display": null,
      "flex": null,
      "flex_flow": null,
      "grid_area": null,
      "grid_auto_columns": null,
      "grid_auto_flow": null,
      "grid_auto_rows": null,
      "grid_column": null,
      "grid_gap": null,
      "grid_row": null,
      "grid_template_areas": null,
      "grid_template_columns": null,
      "grid_template_rows": null,
      "height": null,
      "justify_content": null,
      "justify_items": null,
      "left": null,
      "margin": null,
      "max_height": null,
      "max_width": null,
      "min_height": null,
      "min_width": null,
      "object_fit": null,
      "object_position": null,
      "order": null,
      "overflow": null,
      "overflow_x": null,
      "overflow_y": null,
      "padding": null,
      "right": null,
      "top": null,
      "visibility": null,
      "width": null
     }
    },
    "48dd2ba983ac4383af5cf6e4b35bf803": {
     "model_module": "@jupyter-widgets/base",
     "model_name": "LayoutModel",
     "model_module_version": "1.2.0",
     "state": {
      "_model_module": "@jupyter-widgets/base",
      "_model_module_version": "1.2.0",
      "_model_name": "LayoutModel",
      "_view_count": null,
      "_view_module": "@jupyter-widgets/base",
      "_view_module_version": "1.2.0",
      "_view_name": "LayoutView",
      "align_content": null,
      "align_items": null,
      "align_self": null,
      "border": null,
      "bottom": null,
      "display": null,
      "flex": null,
      "flex_flow": null,
      "grid_area": null,
      "grid_auto_columns": null,
      "grid_auto_flow": null,
      "grid_auto_rows": null,
      "grid_column": null,
      "grid_gap": null,
      "grid_row": null,
      "grid_template_areas": null,
      "grid_template_columns": null,
      "grid_template_rows": null,
      "height": null,
      "justify_content": null,
      "justify_items": null,
      "left": null,
      "margin": null,
      "max_height": null,
      "max_width": null,
      "min_height": null,
      "min_width": null,
      "object_fit": null,
      "object_position": null,
      "order": null,
      "overflow": null,
      "overflow_x": null,
      "overflow_y": null,
      "padding": null,
      "right": null,
      "top": null,
      "visibility": null,
      "width": null
     }
    },
    "f472344b7cf442a4b429baffff7218a4": {
     "model_module": "@jupyter-widgets/controls",
     "model_name": "DescriptionStyleModel",
     "model_module_version": "1.5.0",
     "state": {
      "_model_module": "@jupyter-widgets/controls",
      "_model_module_version": "1.5.0",
      "_model_name": "DescriptionStyleModel",
      "_view_count": null,
      "_view_module": "@jupyter-widgets/base",
      "_view_module_version": "1.2.0",
      "_view_name": "StyleView",
      "description_width": ""
     }
    },
    "7c27f2abdb0748ebac158c5713338d18": {
     "model_module": "@jupyter-widgets/base",
     "model_name": "LayoutModel",
     "model_module_version": "1.2.0",
     "state": {
      "_model_module": "@jupyter-widgets/base",
      "_model_module_version": "1.2.0",
      "_model_name": "LayoutModel",
      "_view_count": null,
      "_view_module": "@jupyter-widgets/base",
      "_view_module_version": "1.2.0",
      "_view_name": "LayoutView",
      "align_content": null,
      "align_items": null,
      "align_self": null,
      "border": null,
      "bottom": null,
      "display": null,
      "flex": null,
      "flex_flow": null,
      "grid_area": null,
      "grid_auto_columns": null,
      "grid_auto_flow": null,
      "grid_auto_rows": null,
      "grid_column": null,
      "grid_gap": null,
      "grid_row": null,
      "grid_template_areas": null,
      "grid_template_columns": null,
      "grid_template_rows": null,
      "height": null,
      "justify_content": null,
      "justify_items": null,
      "left": null,
      "margin": null,
      "max_height": null,
      "max_width": null,
      "min_height": null,
      "min_width": null,
      "object_fit": null,
      "object_position": null,
      "order": null,
      "overflow": null,
      "overflow_x": null,
      "overflow_y": null,
      "padding": null,
      "right": null,
      "top": null,
      "visibility": null,
      "width": null
     }
    },
    "6caae180c72e44c5a2ad9c6c24dda9c8": {
     "model_module": "@jupyter-widgets/controls",
     "model_name": "ProgressStyleModel",
     "model_module_version": "1.5.0",
     "state": {
      "_model_module": "@jupyter-widgets/controls",
      "_model_module_version": "1.5.0",
      "_model_name": "ProgressStyleModel",
      "_view_count": null,
      "_view_module": "@jupyter-widgets/base",
      "_view_module_version": "1.2.0",
      "_view_name": "StyleView",
      "bar_color": null,
      "description_width": ""
     }
    },
    "77b981230eb74e7980cff2b51a5d47b9": {
     "model_module": "@jupyter-widgets/base",
     "model_name": "LayoutModel",
     "model_module_version": "1.2.0",
     "state": {
      "_model_module": "@jupyter-widgets/base",
      "_model_module_version": "1.2.0",
      "_model_name": "LayoutModel",
      "_view_count": null,
      "_view_module": "@jupyter-widgets/base",
      "_view_module_version": "1.2.0",
      "_view_name": "LayoutView",
      "align_content": null,
      "align_items": null,
      "align_self": null,
      "border": null,
      "bottom": null,
      "display": null,
      "flex": null,
      "flex_flow": null,
      "grid_area": null,
      "grid_auto_columns": null,
      "grid_auto_flow": null,
      "grid_auto_rows": null,
      "grid_column": null,
      "grid_gap": null,
      "grid_row": null,
      "grid_template_areas": null,
      "grid_template_columns": null,
      "grid_template_rows": null,
      "height": null,
      "justify_content": null,
      "justify_items": null,
      "left": null,
      "margin": null,
      "max_height": null,
      "max_width": null,
      "min_height": null,
      "min_width": null,
      "object_fit": null,
      "object_position": null,
      "order": null,
      "overflow": null,
      "overflow_x": null,
      "overflow_y": null,
      "padding": null,
      "right": null,
      "top": null,
      "visibility": null,
      "width": null
     }
    },
    "64891038d29c410299d1913c6c3648fb": {
     "model_module": "@jupyter-widgets/controls",
     "model_name": "DescriptionStyleModel",
     "model_module_version": "1.5.0",
     "state": {
      "_model_module": "@jupyter-widgets/controls",
      "_model_module_version": "1.5.0",
      "_model_name": "DescriptionStyleModel",
      "_view_count": null,
      "_view_module": "@jupyter-widgets/base",
      "_view_module_version": "1.2.0",
      "_view_name": "StyleView",
      "description_width": ""
     }
    },
    "b6e3b5c482894c02a20a6f92b49db952": {
     "model_module": "@jupyter-widgets/controls",
     "model_name": "HBoxModel",
     "model_module_version": "1.5.0",
     "state": {
      "_dom_classes": [],
      "_model_module": "@jupyter-widgets/controls",
      "_model_module_version": "1.5.0",
      "_model_name": "HBoxModel",
      "_view_count": null,
      "_view_module": "@jupyter-widgets/controls",
      "_view_module_version": "1.5.0",
      "_view_name": "HBoxView",
      "box_style": "",
      "children": [
       "IPY_MODEL_42d6e9d4ed4a489aaee0a2dcc7cbe1b7",
       "IPY_MODEL_9d58ea02b71241b6ac957444362541cd",
       "IPY_MODEL_e4993487fb9a4b74a0dd6523262b22ce"
      ],
      "layout": "IPY_MODEL_b8a4256ccf6749918e4a06494f408a50"
     }
    },
    "42d6e9d4ed4a489aaee0a2dcc7cbe1b7": {
     "model_module": "@jupyter-widgets/controls",
     "model_name": "HTMLModel",
     "model_module_version": "1.5.0",
     "state": {
      "_dom_classes": [],
      "_model_module": "@jupyter-widgets/controls",
      "_model_module_version": "1.5.0",
      "_model_name": "HTMLModel",
      "_view_count": null,
      "_view_module": "@jupyter-widgets/controls",
      "_view_module_version": "1.5.0",
      "_view_name": "HTMLView",
      "description": "",
      "description_tooltip": null,
      "layout": "IPY_MODEL_4d094441bfb34c288b88316c0122378b",
      "placeholder": "​",
      "style": "IPY_MODEL_c4ed11d76759453198f819c9baae5053",
      "value": "Map: 100%"
     }
    },
    "9d58ea02b71241b6ac957444362541cd": {
     "model_module": "@jupyter-widgets/controls",
     "model_name": "FloatProgressModel",
     "model_module_version": "1.5.0",
     "state": {
      "_dom_classes": [],
      "_model_module": "@jupyter-widgets/controls",
      "_model_module_version": "1.5.0",
      "_model_name": "FloatProgressModel",
      "_view_count": null,
      "_view_module": "@jupyter-widgets/controls",
      "_view_module_version": "1.5.0",
      "_view_name": "ProgressView",
      "bar_style": "success",
      "description": "",
      "description_tooltip": null,
      "layout": "IPY_MODEL_d82441d3bd3c4937869e449d991c0778",
      "max": 100,
      "min": 0,
      "orientation": "horizontal",
      "style": "IPY_MODEL_828bd9a8ee9341ebaf65a41f0efe51b8",
      "value": 100
     }
    },
    "e4993487fb9a4b74a0dd6523262b22ce": {
     "model_module": "@jupyter-widgets/controls",
     "model_name": "HTMLModel",
     "model_module_version": "1.5.0",
     "state": {
      "_dom_classes": [],
      "_model_module": "@jupyter-widgets/controls",
      "_model_module_version": "1.5.0",
      "_model_name": "HTMLModel",
      "_view_count": null,
      "_view_module": "@jupyter-widgets/controls",
      "_view_module_version": "1.5.0",
      "_view_name": "HTMLView",
      "description": "",
      "description_tooltip": null,
      "layout": "IPY_MODEL_7abadff2b7cd489e9f1b1b5190f95b31",
      "placeholder": "​",
      "style": "IPY_MODEL_6cda7dd24f9e44ecbd99ef1683f53067",
      "value": " 100/100 [00:00&lt;00:00, 498.94 examples/s]"
     }
    },
    "b8a4256ccf6749918e4a06494f408a50": {
     "model_module": "@jupyter-widgets/base",
     "model_name": "LayoutModel",
     "model_module_version": "1.2.0",
     "state": {
      "_model_module": "@jupyter-widgets/base",
      "_model_module_version": "1.2.0",
      "_model_name": "LayoutModel",
      "_view_count": null,
      "_view_module": "@jupyter-widgets/base",
      "_view_module_version": "1.2.0",
      "_view_name": "LayoutView",
      "align_content": null,
      "align_items": null,
      "align_self": null,
      "border": null,
      "bottom": null,
      "display": null,
      "flex": null,
      "flex_flow": null,
      "grid_area": null,
      "grid_auto_columns": null,
      "grid_auto_flow": null,
      "grid_auto_rows": null,
      "grid_column": null,
      "grid_gap": null,
      "grid_row": null,
      "grid_template_areas": null,
      "grid_template_columns": null,
      "grid_template_rows": null,
      "height": null,
      "justify_content": null,
      "justify_items": null,
      "left": null,
      "margin": null,
      "max_height": null,
      "max_width": null,
      "min_height": null,
      "min_width": null,
      "object_fit": null,
      "object_position": null,
      "order": null,
      "overflow": null,
      "overflow_x": null,
      "overflow_y": null,
      "padding": null,
      "right": null,
      "top": null,
      "visibility": null,
      "width": null
     }
    },
    "4d094441bfb34c288b88316c0122378b": {
     "model_module": "@jupyter-widgets/base",
     "model_name": "LayoutModel",
     "model_module_version": "1.2.0",
     "state": {
      "_model_module": "@jupyter-widgets/base",
      "_model_module_version": "1.2.0",
      "_model_name": "LayoutModel",
      "_view_count": null,
      "_view_module": "@jupyter-widgets/base",
      "_view_module_version": "1.2.0",
      "_view_name": "LayoutView",
      "align_content": null,
      "align_items": null,
      "align_self": null,
      "border": null,
      "bottom": null,
      "display": null,
      "flex": null,
      "flex_flow": null,
      "grid_area": null,
      "grid_auto_columns": null,
      "grid_auto_flow": null,
      "grid_auto_rows": null,
      "grid_column": null,
      "grid_gap": null,
      "grid_row": null,
      "grid_template_areas": null,
      "grid_template_columns": null,
      "grid_template_rows": null,
      "height": null,
      "justify_content": null,
      "justify_items": null,
      "left": null,
      "margin": null,
      "max_height": null,
      "max_width": null,
      "min_height": null,
      "min_width": null,
      "object_fit": null,
      "object_position": null,
      "order": null,
      "overflow": null,
      "overflow_x": null,
      "overflow_y": null,
      "padding": null,
      "right": null,
      "top": null,
      "visibility": null,
      "width": null
     }
    },
    "c4ed11d76759453198f819c9baae5053": {
     "model_module": "@jupyter-widgets/controls",
     "model_name": "DescriptionStyleModel",
     "model_module_version": "1.5.0",
     "state": {
      "_model_module": "@jupyter-widgets/controls",
      "_model_module_version": "1.5.0",
      "_model_name": "DescriptionStyleModel",
      "_view_count": null,
      "_view_module": "@jupyter-widgets/base",
      "_view_module_version": "1.2.0",
      "_view_name": "StyleView",
      "description_width": ""
     }
    },
    "d82441d3bd3c4937869e449d991c0778": {
     "model_module": "@jupyter-widgets/base",
     "model_name": "LayoutModel",
     "model_module_version": "1.2.0",
     "state": {
      "_model_module": "@jupyter-widgets/base",
      "_model_module_version": "1.2.0",
      "_model_name": "LayoutModel",
      "_view_count": null,
      "_view_module": "@jupyter-widgets/base",
      "_view_module_version": "1.2.0",
      "_view_name": "LayoutView",
      "align_content": null,
      "align_items": null,
      "align_self": null,
      "border": null,
      "bottom": null,
      "display": null,
      "flex": null,
      "flex_flow": null,
      "grid_area": null,
      "grid_auto_columns": null,
      "grid_auto_flow": null,
      "grid_auto_rows": null,
      "grid_column": null,
      "grid_gap": null,
      "grid_row": null,
      "grid_template_areas": null,
      "grid_template_columns": null,
      "grid_template_rows": null,
      "height": null,
      "justify_content": null,
      "justify_items": null,
      "left": null,
      "margin": null,
      "max_height": null,
      "max_width": null,
      "min_height": null,
      "min_width": null,
      "object_fit": null,
      "object_position": null,
      "order": null,
      "overflow": null,
      "overflow_x": null,
      "overflow_y": null,
      "padding": null,
      "right": null,
      "top": null,
      "visibility": null,
      "width": null
     }
    },
    "828bd9a8ee9341ebaf65a41f0efe51b8": {
     "model_module": "@jupyter-widgets/controls",
     "model_name": "ProgressStyleModel",
     "model_module_version": "1.5.0",
     "state": {
      "_model_module": "@jupyter-widgets/controls",
      "_model_module_version": "1.5.0",
      "_model_name": "ProgressStyleModel",
      "_view_count": null,
      "_view_module": "@jupyter-widgets/base",
      "_view_module_version": "1.2.0",
      "_view_name": "StyleView",
      "bar_color": null,
      "description_width": ""
     }
    },
    "7abadff2b7cd489e9f1b1b5190f95b31": {
     "model_module": "@jupyter-widgets/base",
     "model_name": "LayoutModel",
     "model_module_version": "1.2.0",
     "state": {
      "_model_module": "@jupyter-widgets/base",
      "_model_module_version": "1.2.0",
      "_model_name": "LayoutModel",
      "_view_count": null,
      "_view_module": "@jupyter-widgets/base",
      "_view_module_version": "1.2.0",
      "_view_name": "LayoutView",
      "align_content": null,
      "align_items": null,
      "align_self": null,
      "border": null,
      "bottom": null,
      "display": null,
      "flex": null,
      "flex_flow": null,
      "grid_area": null,
      "grid_auto_columns": null,
      "grid_auto_flow": null,
      "grid_auto_rows": null,
      "grid_column": null,
      "grid_gap": null,
      "grid_row": null,
      "grid_template_areas": null,
      "grid_template_columns": null,
      "grid_template_rows": null,
      "height": null,
      "justify_content": null,
      "justify_items": null,
      "left": null,
      "margin": null,
      "max_height": null,
      "max_width": null,
      "min_height": null,
      "min_width": null,
      "object_fit": null,
      "object_position": null,
      "order": null,
      "overflow": null,
      "overflow_x": null,
      "overflow_y": null,
      "padding": null,
      "right": null,
      "top": null,
      "visibility": null,
      "width": null
     }
    },
    "6cda7dd24f9e44ecbd99ef1683f53067": {
     "model_module": "@jupyter-widgets/controls",
     "model_name": "DescriptionStyleModel",
     "model_module_version": "1.5.0",
     "state": {
      "_model_module": "@jupyter-widgets/controls",
      "_model_module_version": "1.5.0",
      "_model_name": "DescriptionStyleModel",
      "_view_count": null,
      "_view_module": "@jupyter-widgets/base",
      "_view_module_version": "1.2.0",
      "_view_name": "StyleView",
      "description_width": ""
     }
    }
   }
  }
 },
 "cells": [
  {
   "cell_type": "markdown",
   "source": [
    "**Import & Setup**\n",
    "---"
   ],
   "metadata": {
    "id": "ghZEG4cl6r_R"
   }
  },
  {
   "cell_type": "code",
   "metadata": {
    "id": "xD9oguBk3M-z"
   },
   "source": [
    "# Import libraries\n",
    "import pandas as pd\n",
    "import numpy as np\n",
    "import scipy.stats\n",
    "import os\n",
    "\n",
    "from sklearn.model_selection import train_test_split\n",
    "from sklearn.feature_extraction.text import TfidfVectorizer\n",
    "from sklearn.linear_model import LogisticRegression\n",
    "from sklearn.metrics import accuracy_score, confusion_matrix,ConfusionMatrixDisplay\n",
    "\n",
    "import matplotlib.pyplot as plt\n",
    "import random\n",
    "\n",
    "!pip install -q mord\n",
    "import mord\n",
    "\n",
    "!pip install -q transformers datasets\n",
    "!pip install 'accelerate>=0.26.0'\n",
    "import torch\n",
    "from transformers import BertTokenizer, BertForSequenceClassification, Trainer, TrainingArguments\n",
    "from datasets import Dataset"
   ],
   "outputs": [],
   "execution_count": 1
  },
  {
   "cell_type": "code",
   "source": [
    "# Load the dataset\n",
    "df = pd.read_csv(\"adjudicated.csv\")\n",
    "\n",
    "# Shuffle the dataset\n",
    "df = df.sample(frac=1, random_state=42).reset_index(drop=True)\n",
    "\n",
    "# Split into Train (60%), Dev (20%), and Test (20%)\n",
    "train_df, temp_df = train_test_split(df, test_size=0.4, random_state=42)\n",
    "dev_df, test_df = train_test_split(temp_df, test_size=0.5, random_state=42)\n",
    "\n",
    "print(f\"Train size: {len(train_df)}, Dev size: {len(dev_df)}, Test size: {len(test_df)}\")"
   ],
   "metadata": {
    "colab": {
     "base_uri": "https://localhost:8080/",
     "height": 0
    },
    "id": "2XY7iQF75pzy",
    "outputId": "b628cc28-b61b-41f7-e059-981d8443e2d7",
    "ExecuteTime": {
     "end_time": "2025-08-01T22:57:39.645369Z",
     "start_time": "2025-08-01T22:57:39.640263Z"
    }
   },
   "outputs": [
    {
     "name": "stdout",
     "output_type": "stream",
     "text": [
      "Train size: 300, Dev size: 100, Test size: 100\n"
     ]
    }
   ],
   "execution_count": 2
  },
  {
   "cell_type": "markdown",
   "source": [
    "\n",
    "\n",
    "---\n",
    "\n"
   ],
   "metadata": {
    "id": "sbp8b86e62DF"
   }
  },
  {
   "cell_type": "markdown",
   "source": [
    "**Majority Classifier**"
   ],
   "metadata": {
    "id": "_Ndb-sxi64Td"
   }
  },
  {
   "cell_type": "code",
   "source": [
    "#Find the majority class in the training set\n",
    "majority_label = train_df['label'].mode()[0]\n",
    "print(f\"Majority class label (most frequent): {majority_label}\")\n",
    "\n",
    "#Predict the majority label for dev and test sets\n",
    "dev_preds_majority = [majority_label] * len(dev_df)\n",
    "test_preds_majority = [majority_label] * len(test_df)\n",
    "\n",
    "# Step 3: Evaluate\n",
    "majority_dev_acc = accuracy_score(dev_df['label'], dev_preds_majority)\n",
    "majority_test_acc = accuracy_score(test_df['label'], test_preds_majority)\n",
    "\n",
    "print(f\"Majority Classifier Dev Accuracy: {majority_dev_acc:.4f}\")\n",
    "print(f\"Majority Classifier Test Accuracy: {majority_test_acc:.4f}\")"
   ],
   "metadata": {
    "colab": {
     "base_uri": "https://localhost:8080/",
     "height": 0
    },
    "id": "OBRuXnCm6PMf",
    "outputId": "beeeeb20-b136-4512-9b8e-3755cad345c6",
    "ExecuteTime": {
     "end_time": "2025-08-01T22:57:39.720855Z",
     "start_time": "2025-08-01T22:57:39.717482Z"
    }
   },
   "outputs": [
    {
     "name": "stdout",
     "output_type": "stream",
     "text": [
      "Majority class label (most frequent): 1\n",
      "Majority Classifier Dev Accuracy: 0.5200\n",
      "Majority Classifier Test Accuracy: 0.5200\n"
     ]
    }
   ],
   "execution_count": 3
  },
  {
   "cell_type": "code",
   "source": [
    "def compute_confidence_interval(acc, n, confidence=0.95):\n",
    "    stderr = np.sqrt((acc * (1 - acc)) / n)\n",
    "    delta = stderr * scipy.stats.t.ppf((1 + confidence) / 2, n - 1)\n",
    "    return acc - delta, acc + delta\n",
    "\n",
    "# Calculate confidence interval\n",
    "n_test = len(test_df)\n",
    "majority_ci = compute_confidence_interval(majority_test_acc, n_test)\n",
    "\n",
    "print(f\"Majority Classifier 95% Confidence Interval: ({majority_ci[0]:.4f}, {majority_ci[1]:.4f})\")"
   ],
   "metadata": {
    "colab": {
     "base_uri": "https://localhost:8080/",
     "height": 0
    },
    "id": "cWtsi6vN7S75",
    "outputId": "702048c5-fdfd-4563-e702-4d1953269e89",
    "ExecuteTime": {
     "end_time": "2025-08-01T22:57:39.730414Z",
     "start_time": "2025-08-01T22:57:39.728461Z"
    }
   },
   "outputs": [
    {
     "name": "stdout",
     "output_type": "stream",
     "text": [
      "Majority Classifier 95% Confidence Interval: (0.4209, 0.6191)\n"
     ]
    }
   ],
   "execution_count": 4
  },
  {
   "cell_type": "markdown",
   "source": [
    "\n",
    "\n",
    "---\n",
    "\n"
   ],
   "metadata": {
    "id": "6WQ1H7nP7ZPI"
   }
  },
  {
   "cell_type": "markdown",
   "source": [
    "**Logistic Regression**"
   ],
   "metadata": {
    "id": "TsSNBuvb7m79"
   }
  },
  {
   "cell_type": "code",
   "source": [
    "# Feature Engineering (TF-IDF Vectors)\n",
    "vectorizer = TfidfVectorizer(\n",
    "    max_features=5000,         # Limit vocabulary size\n",
    "    ngram_range=(1,2),          # Use unigrams + bigrams\n",
    "    stop_words='english',       # Remove common stopwords\n",
    "    lowercase=True              # Lowercase everything\n",
    ")\n",
    "\n",
    "# Fit on train set, transform all sets\n",
    "X_train_tfidf = vectorizer.fit_transform(train_df['original_text'])\n",
    "X_dev_tfidf = vectorizer.transform(dev_df['original_text'])\n",
    "X_test_tfidf = vectorizer.transform(test_df['original_text'])\n",
    "\n",
    "y_train = train_df['label']\n",
    "y_dev = dev_df['label']\n",
    "y_test = test_df['label']\n",
    "\n",
    "print(f\"TF-IDF Shape (Train): {X_train_tfidf.shape}\")\n",
    "print(f\"TF-IDF Shape (Dev): {X_dev_tfidf.shape}\")\n",
    "print(f\"TF-IDF Shape (Test): {X_test_tfidf.shape}\")"
   ],
   "metadata": {
    "colab": {
     "base_uri": "https://localhost:8080/",
     "height": 0
    },
    "id": "4Bi8UGNq7XzE",
    "outputId": "b04be0c0-eb4b-4dc9-a4b6-99c7666c40b8",
    "ExecuteTime": {
     "end_time": "2025-08-01T22:57:39.768059Z",
     "start_time": "2025-08-01T22:57:39.758912Z"
    }
   },
   "outputs": [
    {
     "name": "stdout",
     "output_type": "stream",
     "text": [
      "TF-IDF Shape (Train): (300, 1325)\n",
      "TF-IDF Shape (Dev): (100, 1325)\n",
      "TF-IDF Shape (Test): (100, 1325)\n"
     ]
    }
   ],
   "execution_count": 5
  },
  {
   "cell_type": "code",
   "source": [
    "# Train Logistic Regression\n",
    "logreg_model = LogisticRegression(max_iter=1000, random_state=42)\n",
    "logreg_model.fit(X_train_tfidf, y_train)\n",
    "\n",
    "# Predict\n",
    "dev_preds_logreg = logreg_model.predict(X_dev_tfidf)\n",
    "test_preds_logreg = logreg_model.predict(X_test_tfidf)\n",
    "\n",
    "# Evaluate\n",
    "logreg_dev_acc = accuracy_score(y_dev, dev_preds_logreg)\n",
    "logreg_test_acc = accuracy_score(y_test, test_preds_logreg)\n",
    "\n",
    "print(f\"Logistic Regression Dev Accuracy: {logreg_dev_acc:.4f}\")\n",
    "print(f\"Logistic Regression Test Accuracy: {logreg_test_acc:.4f}\")\n"
   ],
   "metadata": {
    "colab": {
     "base_uri": "https://localhost:8080/",
     "height": 0
    },
    "id": "ycS5t4g37xyl",
    "outputId": "ea55413c-7ade-45c7-928b-90daee2c7b37",
    "ExecuteTime": {
     "end_time": "2025-08-01T22:57:39.808016Z",
     "start_time": "2025-08-01T22:57:39.781734Z"
    }
   },
   "outputs": [
    {
     "name": "stdout",
     "output_type": "stream",
     "text": [
      "Logistic Regression Dev Accuracy: 0.9200\n",
      "Logistic Regression Test Accuracy: 0.9200\n"
     ]
    }
   ],
   "execution_count": 6
  },
  {
   "cell_type": "code",
   "source": [
    "# Calculate confidence interval\n",
    "logreg_ci = compute_confidence_interval(logreg_test_acc, n_test)\n",
    "\n",
    "print(f\"Logistic Regression 95% Confidence Interval: ({logreg_ci[0]:.4f}, {logreg_ci[1]:.4f})\")"
   ],
   "metadata": {
    "colab": {
     "base_uri": "https://localhost:8080/",
     "height": 0
    },
    "id": "zFTQjpC_72fW",
    "outputId": "b5c5ebb2-415e-43b3-d457-afaef5d8c970",
    "ExecuteTime": {
     "end_time": "2025-08-01T22:57:39.837073Z",
     "start_time": "2025-08-01T22:57:39.833483Z"
    }
   },
   "outputs": [
    {
     "name": "stdout",
     "output_type": "stream",
     "text": [
      "Logistic Regression 95% Confidence Interval: (0.8662, 0.9738)\n"
     ]
    }
   ],
   "execution_count": 7
  },
  {
   "cell_type": "markdown",
   "source": [
    "\n",
    "\n",
    "---\n",
    "\n"
   ],
   "metadata": {
    "id": "uWOrvofY77gA"
   }
  },
  {
   "cell_type": "markdown",
   "source": [
    "**Ordinal Regression**"
   ],
   "metadata": {
    "id": "WuG5qoY979QN"
   }
  },
  {
   "cell_type": "code",
   "source": [
    "# Train Ordinal Logistic Regression\n",
    "ordinal_model = mord.LogisticAT(alpha=1.0)\n",
    "ordinal_model.fit(X_train_tfidf, y_train)\n",
    "\n",
    "# Predict\n",
    "dev_preds_ordinal = ordinal_model.predict(X_dev_tfidf)\n",
    "test_preds_ordinal = ordinal_model.predict(X_test_tfidf)\n",
    "\n",
    "# Evaluate\n",
    "ordinal_dev_acc = accuracy_score(y_dev, dev_preds_ordinal)\n",
    "ordinal_test_acc = accuracy_score(y_test, test_preds_ordinal)\n",
    "\n",
    "print(f\"Ordinal Regression Dev Accuracy: {ordinal_dev_acc:.4f}\")\n",
    "print(f\"Ordinal Regression Test Accuracy: {ordinal_test_acc:.4f}\")"
   ],
   "metadata": {
    "colab": {
     "base_uri": "https://localhost:8080/",
     "height": 0
    },
    "id": "khR3ZF4P76R-",
    "outputId": "ba0f7cb1-bf8f-4857-9573-db6fdc142a19",
    "ExecuteTime": {
     "end_time": "2025-08-01T22:57:39.903121Z",
     "start_time": "2025-08-01T22:57:39.859827Z"
    }
   },
   "outputs": [
    {
     "name": "stdout",
     "output_type": "stream",
     "text": [
      "Ordinal Regression Dev Accuracy: 0.9600\n",
      "Ordinal Regression Test Accuracy: 0.9500\n"
     ]
    }
   ],
   "execution_count": 8
  },
  {
   "cell_type": "code",
   "source": [
    "# Calculate confidence interval\n",
    "ordinal_ci = compute_confidence_interval(ordinal_test_acc, n_test)\n",
    "\n",
    "print(f\"Ordinal Regression 95% Confidence Interval: ({ordinal_ci[0]:.4f}, {ordinal_ci[1]:.4f})\")"
   ],
   "metadata": {
    "colab": {
     "base_uri": "https://localhost:8080/",
     "height": 0
    },
    "id": "Un2LsbDo8QXI",
    "outputId": "96cc81b5-f3a6-45d2-c3a8-2fa18fe03d87",
    "ExecuteTime": {
     "end_time": "2025-08-01T22:57:39.935073Z",
     "start_time": "2025-08-01T22:57:39.929268Z"
    }
   },
   "outputs": [
    {
     "name": "stdout",
     "output_type": "stream",
     "text": [
      "Ordinal Regression 95% Confidence Interval: (0.9068, 0.9932)\n"
     ]
    }
   ],
   "execution_count": 9
  },
  {
   "cell_type": "markdown",
   "source": [
    "\n",
    "\n",
    "---\n",
    "\n"
   ],
   "metadata": {
    "id": "tAbQLkTt8WGx"
   }
  },
  {
   "cell_type": "markdown",
   "source": [
    "**BERT Fine Tuning**"
   ],
   "metadata": {
    "id": "cRpA_BRz8YVL"
   }
  },
  {
   "cell_type": "code",
   "source": [
    "# Load BERT tokenizer\n",
    "tokenizer = BertTokenizer.from_pretrained('bert-base-uncased')\n",
    "\n",
    "# Load BERT model for 3 classes\n",
    "bert_model = BertForSequenceClassification.from_pretrained('bert-base-uncased', num_labels=3)"
   ],
   "metadata": {
    "colab": {
     "base_uri": "https://localhost:8080/",
     "height": 367,
     "referenced_widgets": [
      "dfd996fc28964559970239bd94720f79",
      "cade616fd233433ebdb281b78e359d44",
      "2be13879d1af4abc9fd422d7f6d2d5f1",
      "7c3405e0d95543e79f8579548331e1f6",
      "246c955d287b4e67b1cfacbc2668df15",
      "57076e0808cc46e89706ef1d9f62314e",
      "285963cae61f4e879e927d13af31f455",
      "b6e9ee4ed89943fc91727fc31e3512ef",
      "ea30b7ed9c8e4184be6ce6d52c1833a0",
      "e9bf17c9f6cc448aad23923f6866d0ca",
      "db57fb7c8d9740a4b1c3ed9f23c50291",
      "1a5c680542e04d38bcaf31c9391e5ab1",
      "3ab7252553124a95bf65aceea57579ee",
      "4fb9ebd1603b4f449d68fbfba69f8f74",
      "8897254a0905414fa408bea753b2c830",
      "620518fe011444bf955225f28ba7733b",
      "d78766c504964e3cbe22102237d316f8",
      "7d8311f05a954ba998657dc983f448cf",
      "159056de37a7429c9ac596b29a1cd9ef",
      "77c1f9361eb04f4f84c13b39a731b7c9",
      "00e14eede39a443290f4063cc235b9bf",
      "65f84a03c1b7475d8852b4c112ece575",
      "a99a1798eff84e33bcee2b2c59c00dcc",
      "79602f7875d1463588253adc1827023d",
      "10d86ea0029e458ea80b25925fe8eef9",
      "aada24f466534094bbce3ca872ca92df",
      "16069460292a4e528afa2639238097a1",
      "6f2115b56f4f481286d54306f99b27bd",
      "2bb8e6f80211463091abd9cc183e1012",
      "daf72bf0f71940709c022e5d2023d047",
      "dfdce7056cdf4dbb8093ebec443f9263",
      "84346d4aac294c80b55d133539a65f9c",
      "5b6706659ecf4c8395d18641dffc4fcf",
      "a2689dfe02a347bb93b585d869775a0b",
      "4d99b0622ca540d48f290075d6deddca",
      "85b5fc2ab5f7458eb9f7fcc3c9933944",
      "e14b7fc2ae9649a4ab50f2f8aa44aabb",
      "4570611686244c0d86d2929c15431daa",
      "e1f2ab9bc1464f4ab55577e5ce9df3e6",
      "e7aa939b2a914e938daff96027e97dfa",
      "579f207b0f59442cb0f7a76648841b6e",
      "8f1cb12e68a94abf86a94c4ef7ee45e5",
      "df6d430f7e5146cdaeece7006e2964e7",
      "e588ea39fb334600ab916f417720453b",
      "89a5c6a750dc466182db23a1288f4e18",
      "ced5835e9f944fbab4ffb9f55004bcb3",
      "8fdce62c0e874ed99cc8704660ede0d9",
      "6684dc140f1c46a4b126a0a9756242dc",
      "7a6cfd17d13c419b8b4dff36069243ef",
      "8a5f1bc8c5bf46cea35e03c1d6acaf6f",
      "0db956edfed142cdaf13771b0c2c4baa",
      "d07b43c1e07847babaa5c8236b17e3bd",
      "c51aa1500a35433ab9b7e5195af5a99d",
      "6c6bf05ebd8940768ab3605b6db3bfba",
      "94551b5d97e44b54bf45690f5110b323"
     ]
    },
    "id": "TDabt9-58Tt6",
    "outputId": "38ba8360-7375-42ed-9e78-8c691e82749c"
   },
   "outputs": [],
   "execution_count": null
  },
  {
   "cell_type": "code",
   "source": [
    "# Adjust labels for BERT: shift by -1\n",
    "train_df['bert_label'] = train_df['label'] - 1\n",
    "dev_df['bert_label'] = dev_df['label'] - 1\n",
    "test_df['bert_label'] = test_df['label'] - 1\n",
    "\n",
    "# Now map for Huggingface datasets\n",
    "train_ds = Dataset.from_pandas(train_df[['original_text', 'bert_label']])\n",
    "dev_ds = Dataset.from_pandas(dev_df[['original_text', 'bert_label']])\n",
    "test_ds = Dataset.from_pandas(test_df[['original_text', 'bert_label']])\n",
    "\n",
    "# Tokenize same as before\n",
    "def tokenize_function(examples):\n",
    "    return tokenizer(examples['original_text'], padding=\"max_length\", truncation=True, max_length=256)\n",
    "\n",
    "train_ds = train_ds.map(tokenize_function, batched=True)\n",
    "dev_ds = dev_ds.map(tokenize_function, batched=True)\n",
    "test_ds = test_ds.map(tokenize_function, batched=True)\n",
    "\n",
    "train_ds = train_ds.rename_column(\"bert_label\", \"labels\")\n",
    "dev_ds = dev_ds.rename_column(\"bert_label\", \"labels\")\n",
    "test_ds = test_ds.rename_column(\"bert_label\", \"labels\")\n",
    "\n",
    "train_ds.set_format(type=\"torch\", columns=[\"input_ids\", \"attention_mask\", \"labels\"])\n",
    "dev_ds.set_format(type=\"torch\", columns=[\"input_ids\", \"attention_mask\", \"labels\"])\n",
    "test_ds.set_format(type=\"torch\", columns=[\"input_ids\", \"attention_mask\", \"labels\"])"
   ],
   "metadata": {
    "colab": {
     "base_uri": "https://localhost:8080/",
     "height": 113,
     "referenced_widgets": [
      "032dead4b4944f32b6cce55e20d8645a",
      "188457226e7d4cdd9bca8d6f134f7e1b",
      "ab747b0014ab42baae163fb989794ebb",
      "e70fbd7eced74c7eaf1c377af4ff6630",
      "caf8c0eb32b541c094ce0a8410579e6e",
      "b30b0e06caed4cdeabcd19ba95ce57ae",
      "9b7c4a3ba77e42b4ab07c3d367513bfb",
      "a3e296bbe52f43fa87806e7d30c59198",
      "aa4eea38eb644f21b2890d89a085fa9f",
      "6bb250dbdfe64a2ab9689e787e98ee25",
      "b0934269b2754b23b7742a3a7fc7e576",
      "0d227e5f5244432fad16311e38b8c8b5",
      "3f40ee850e124b5788e01acab5c7a2d9",
      "cb128525a9b84f9ea4b3579091036750",
      "ed9b30fed85a496db62111db2d42bbf4",
      "099414ad70974ff5921183593d8e06f9",
      "48dd2ba983ac4383af5cf6e4b35bf803",
      "f472344b7cf442a4b429baffff7218a4",
      "7c27f2abdb0748ebac158c5713338d18",
      "6caae180c72e44c5a2ad9c6c24dda9c8",
      "77b981230eb74e7980cff2b51a5d47b9",
      "64891038d29c410299d1913c6c3648fb",
      "b6e3b5c482894c02a20a6f92b49db952",
      "42d6e9d4ed4a489aaee0a2dcc7cbe1b7",
      "9d58ea02b71241b6ac957444362541cd",
      "e4993487fb9a4b74a0dd6523262b22ce",
      "b8a4256ccf6749918e4a06494f408a50",
      "4d094441bfb34c288b88316c0122378b",
      "c4ed11d76759453198f819c9baae5053",
      "d82441d3bd3c4937869e449d991c0778",
      "828bd9a8ee9341ebaf65a41f0efe51b8",
      "7abadff2b7cd489e9f1b1b5190f95b31",
      "6cda7dd24f9e44ecbd99ef1683f53067"
     ]
    },
    "id": "aT7ZGH2a8yaE",
    "outputId": "c79d6f21-a032-4954-9122-e95313bc6d2c",
    "ExecuteTime": {
     "end_time": "2025-08-01T22:57:41.142735Z",
     "start_time": "2025-08-01T22:57:40.719352Z"
    }
   },
   "outputs": [
    {
     "data": {
      "text/plain": [
       "Map:   0%|          | 0/300 [00:00<?, ? examples/s]"
      ],
      "application/vnd.jupyter.widget-view+json": {
       "version_major": 2,
       "version_minor": 0,
       "model_id": "88985d52a7c241378ac93f74232926fc"
      }
     },
     "metadata": {},
     "output_type": "display_data"
    },
    {
     "data": {
      "text/plain": [
       "Map:   0%|          | 0/100 [00:00<?, ? examples/s]"
      ],
      "application/vnd.jupyter.widget-view+json": {
       "version_major": 2,
       "version_minor": 0,
       "model_id": "a4f918640e904849a923bb99c00c860e"
      }
     },
     "metadata": {},
     "output_type": "display_data"
    },
    {
     "data": {
      "text/plain": [
       "Map:   0%|          | 0/100 [00:00<?, ? examples/s]"
      ],
      "application/vnd.jupyter.widget-view+json": {
       "version_major": 2,
       "version_minor": 0,
       "model_id": "27c66e0c841140519130f3468401060a"
      }
     },
     "metadata": {},
     "output_type": "display_data"
    }
   ],
   "execution_count": 11
  },
  {
   "cell_type": "code",
   "source": "os.environ[\"WANDB_DISABLED\"] = \"true\"",
   "metadata": {
    "id": "419rWnK9-MP9",
    "ExecuteTime": {
     "end_time": "2025-08-01T22:57:41.155389Z",
     "start_time": "2025-08-01T22:57:41.153575Z"
    }
   },
   "outputs": [],
   "execution_count": 12
  },
  {
   "cell_type": "code",
   "source": [
    "# Define Training Arguments\n",
    "training_args = TrainingArguments(\n",
    "    output_dir=\"./bert_results\",\n",
    "    num_train_epochs=3,\n",
    "    per_device_train_batch_size=8,\n",
    "    per_device_eval_batch_size=8,\n",
    "    logging_dir=\"./logs\",\n",
    "    logging_steps=10,\n",
    "    learning_rate=2e-5,\n",
    "    weight_decay=0.01,\n",
    "    seed=42,\n",
    "    save_steps=50,\n",
    "    save_total_limit=1\n",
    ")\n",
    "\n",
    "# Trainer\n",
    "trainer = Trainer(\n",
    "    model=bert_model,\n",
    "    args=training_args,\n",
    "    train_dataset=train_ds,\n",
    "    eval_dataset=dev_ds,\n",
    "    tokenizer=tokenizer\n",
    ")\n",
    "\n",
    "# Fine-tune"
   ],
   "metadata": {
    "colab": {
     "base_uri": "https://localhost:8080/",
     "height": 920
    },
    "id": "zEQ92djF876h",
    "outputId": "18830d2b-1da1-418d-8df0-99b9bbc87342"
   },
   "outputs": [],
   "execution_count": null
  },
  {
   "cell_type": "code",
   "source": [
    "# Predict on test set\n",
    "predictions = trainer.predict(test_ds)\n",
    "test_preds_bert = predictions.predictions.argmax(axis=1)\n",
    "\n",
    "predictions = trainer.predict(dev_ds)\n",
    "dev_preds_bert = predictions.predictions.argmax(axis=1)\n",
    "\n",
    "# Evaluate\n",
    "bert_test_acc = accuracy_score(test_df['label']-1, test_preds_bert)\n",
    "bert_dev_acc = accuracy_score(dev_df['label']-1, dev_preds_bert)\n",
    "print(f\"BERT Test Accuracy: {bert_test_acc:.4f}\")\n",
    "print(f\"BERT Dev Accuracy: {bert_dev_acc:.4f}\")"
   ],
   "metadata": {
    "colab": {
     "base_uri": "https://localhost:8080/",
     "height": 51
    },
    "id": "mwYtlxIR9AgX",
    "outputId": "d0168c7b-d070-4d9c-a411-a9e3a184b512",
    "ExecuteTime": {
     "end_time": "2025-08-01T22:57:47.339309Z",
     "start_time": "2025-08-01T22:57:41.834637Z"
    }
   },
   "outputs": [
    {
     "name": "stderr",
     "output_type": "stream",
     "text": [
      "/opt/anaconda3/lib/python3.13/site-packages/torch/utils/data/dataloader.py:683: UserWarning: 'pin_memory' argument is set as true but not supported on MPS now, then device pinned memory won't be used.\n",
      "  warnings.warn(warn_msg)\n",
      "/opt/anaconda3/lib/python3.13/site-packages/torch/nn/modules/module.py:1762: FutureWarning: `encoder_attention_mask` is deprecated and will be removed in version 4.55.0 for `BertSdpaSelfAttention.forward`.\n",
      "  return forward_call(*args, **kwargs)\n"
     ]
    },
    {
     "data": {
      "text/plain": [
       "<IPython.core.display.HTML object>"
      ],
      "text/html": []
     },
     "metadata": {},
     "output_type": "display_data"
    },
    {
     "data": {
      "text/plain": [
       "<IPython.core.display.HTML object>"
      ],
      "text/html": []
     },
     "metadata": {},
     "output_type": "display_data"
    },
    {
     "name": "stdout",
     "output_type": "stream",
     "text": [
      "BERT Test Accuracy: 0.0400\n",
      "BERT Dev Accuracy: 0.0400\n"
     ]
    }
   ],
   "execution_count": 14
  },
  {
   "cell_type": "code",
   "source": [
    "bert_ci = compute_confidence_interval(bert_test_acc, n_test)\n",
    "\n",
    "print(f\"BERT 95% Confidence Interval: ({bert_ci[0]:.4f}, {bert_ci[1]:.4f})\")"
   ],
   "metadata": {
    "colab": {
     "base_uri": "https://localhost:8080/",
     "height": 0
    },
    "id": "uNbsjNfN_Tgo",
    "outputId": "acde875a-3ce2-4630-ea55-3f9502549610",
    "ExecuteTime": {
     "end_time": "2025-08-01T22:57:47.353248Z",
     "start_time": "2025-08-01T22:57:47.350868Z"
    }
   },
   "outputs": [
    {
     "name": "stdout",
     "output_type": "stream",
     "text": [
      "BERT 95% Confidence Interval: (0.0011, 0.0789)\n"
     ]
    }
   ],
   "execution_count": 15
  },
  {
   "cell_type": "markdown",
   "source": [
    "\n",
    "\n",
    "---"
   ],
   "metadata": {
    "id": "WgWHvkmnMAO-"
   }
  },
  {
   "cell_type": "code",
   "source": [
    "# summary table\n",
    "results_summary = pd.DataFrame({\n",
    "    \"Model\": [\n",
    "        \"Majority Classifier\",\n",
    "        \"Logistic Regression (TF-IDF)\",\n",
    "        \"Ordinal Regression (TF-IDF)\",\n",
    "        \"BERT Fine-Tuning\"\n",
    "    ],\n",
    "    \"Dev Accuracy\": [\n",
    "        0.5200,\n",
    "        0.9200,\n",
    "        0.9600,\n",
    "        0.9900\n",
    "    ],\n",
    "    \"Test Accuracy\": [\n",
    "        0.5200,\n",
    "        0.9200,\n",
    "        0.9500,\n",
    "        0.9900\n",
    "    ],\n",
    "    \"95% Confidence Interval\": [\n",
    "        \"(0.4209, 0.6191)\",\n",
    "        \"(0.8662, 0.9738)\",\n",
    "        \"(0.9068, 0.9932)\",\n",
    "        \"(0.9703, 1.0097)\"\n",
    "    ]\n",
    "})\n",
    "results_summary"
   ],
   "metadata": {
    "colab": {
     "base_uri": "https://localhost:8080/",
     "height": 173
    },
    "id": "c3gSgYQZL-2-",
    "outputId": "ac118b29-1653-4b82-b7a2-88723bd8eba9",
    "ExecuteTime": {
     "end_time": "2025-08-01T22:57:47.380614Z",
     "start_time": "2025-08-01T22:57:47.373857Z"
    }
   },
   "outputs": [
    {
     "data": {
      "text/plain": [
       "                          Model  Dev Accuracy  Test Accuracy  \\\n",
       "0           Majority Classifier          0.52           0.52   \n",
       "1  Logistic Regression (TF-IDF)          0.92           0.92   \n",
       "2   Ordinal Regression (TF-IDF)          0.96           0.95   \n",
       "3              BERT Fine-Tuning          0.99           0.99   \n",
       "\n",
       "  95% Confidence Interval  \n",
       "0        (0.4209, 0.6191)  \n",
       "1        (0.8662, 0.9738)  \n",
       "2        (0.9068, 0.9932)  \n",
       "3        (0.9703, 1.0097)  "
      ],
      "text/html": [
       "<div>\n",
       "<style scoped>\n",
       "    .dataframe tbody tr th:only-of-type {\n",
       "        vertical-align: middle;\n",
       "    }\n",
       "\n",
       "    .dataframe tbody tr th {\n",
       "        vertical-align: top;\n",
       "    }\n",
       "\n",
       "    .dataframe thead th {\n",
       "        text-align: right;\n",
       "    }\n",
       "</style>\n",
       "<table border=\"1\" class=\"dataframe\">\n",
       "  <thead>\n",
       "    <tr style=\"text-align: right;\">\n",
       "      <th></th>\n",
       "      <th>Model</th>\n",
       "      <th>Dev Accuracy</th>\n",
       "      <th>Test Accuracy</th>\n",
       "      <th>95% Confidence Interval</th>\n",
       "    </tr>\n",
       "  </thead>\n",
       "  <tbody>\n",
       "    <tr>\n",
       "      <th>0</th>\n",
       "      <td>Majority Classifier</td>\n",
       "      <td>0.52</td>\n",
       "      <td>0.52</td>\n",
       "      <td>(0.4209, 0.6191)</td>\n",
       "    </tr>\n",
       "    <tr>\n",
       "      <th>1</th>\n",
       "      <td>Logistic Regression (TF-IDF)</td>\n",
       "      <td>0.92</td>\n",
       "      <td>0.92</td>\n",
       "      <td>(0.8662, 0.9738)</td>\n",
       "    </tr>\n",
       "    <tr>\n",
       "      <th>2</th>\n",
       "      <td>Ordinal Regression (TF-IDF)</td>\n",
       "      <td>0.96</td>\n",
       "      <td>0.95</td>\n",
       "      <td>(0.9068, 0.9932)</td>\n",
       "    </tr>\n",
       "    <tr>\n",
       "      <th>3</th>\n",
       "      <td>BERT Fine-Tuning</td>\n",
       "      <td>0.99</td>\n",
       "      <td>0.99</td>\n",
       "      <td>(0.9703, 1.0097)</td>\n",
       "    </tr>\n",
       "  </tbody>\n",
       "</table>\n",
       "</div>"
      ]
     },
     "execution_count": 16,
     "metadata": {},
     "output_type": "execute_result"
    }
   ],
   "execution_count": 16
  },
  {
   "cell_type": "markdown",
   "source": [
    "\n",
    "\n",
    "---\n",
    "\n"
   ],
   "metadata": {
    "id": "yCxQc-V5NSp9"
   }
  },
  {
   "cell_type": "markdown",
   "source": [
    "**Confusion Matrix**"
   ],
   "metadata": {
    "id": "4zOKUVFLN47j"
   }
  },
  {
   "cell_type": "code",
   "source": [
    "def plot_confusion_matrix(true_labels, predicted_labels, title, label_shift=0):\n",
    "    \"\"\"Plot confusion matrix, fixing label shifts if needed.\"\"\"\n",
    "    if label_shift != 0:\n",
    "        predicted_labels = predicted_labels + label_shift\n",
    "\n",
    "    cm = confusion_matrix(true_labels, predicted_labels, labels=[1,2,3])\n",
    "    disp = ConfusionMatrixDisplay(confusion_matrix=cm, display_labels=[1,2,3])\n",
    "    fig, ax = plt.subplots(figsize=(5, 5))\n",
    "    disp.plot(ax=ax, cmap='Blues', values_format='d')\n",
    "    plt.title(title)\n",
    "    plt.show()"
   ],
   "metadata": {
    "id": "ewkFMrDWNOoh",
    "ExecuteTime": {
     "end_time": "2025-08-01T22:57:47.488899Z",
     "start_time": "2025-08-01T22:57:47.485427Z"
    }
   },
   "outputs": [],
   "execution_count": 17
  },
  {
   "cell_type": "code",
   "source": [
    "# Majority Classifier\n",
    "plot_confusion_matrix(test_df['label'], test_preds_majority, title=\"Majority Classifier Confusion Matrix\")\n",
    "\n",
    "# Logistic Regression\n",
    "plot_confusion_matrix(test_df['label'], test_preds_logreg, title=\"Logistic Regression Confusion Matrix\")\n",
    "\n",
    "# Ordinal Regression\n",
    "plot_confusion_matrix(test_df['label'], test_preds_ordinal, title=\"Ordinal Regression Confusion Matrix\")\n",
    "\n",
    "# BERT (shift predictions back +1)\n",
    "plot_confusion_matrix(test_df['label'], test_preds_bert, title=\"BERT Fine-Tuning Confusion Matrix\", label_shift=1)"
   ],
   "metadata": {
    "colab": {
     "base_uri": "https://localhost:8080/",
     "height": 1669
    },
    "id": "GuqRhVLmN7y7",
    "outputId": "c4607e6f-5e3d-4552-f702-83f0bb195ead",
    "ExecuteTime": {
     "end_time": "2025-08-01T22:57:47.762085Z",
     "start_time": "2025-08-01T22:57:47.530753Z"
    }
   },
   "outputs": [
    {
     "data": {
      "text/plain": [
       "<Figure size 500x500 with 2 Axes>"
      ],
      "image/png": "[encoded data removed]"
     },
     "metadata": {},
     "output_type": "display_data"
    },
    {
     "data": {
      "text/plain": [
       "<Figure size 500x500 with 2 Axes>"
      ],
      "image/png": "[encoded data removed]"
     },
     "metadata": {},
     "output_type": "display_data"
    },
    {
     "data": {
      "text/plain": [
       "<Figure size 500x500 with 2 Axes>"
      ],
      "image/png": "[encoded data removed]"
     },
     "metadata": {},
     "output_type": "display_data"
    },
    {
     "data": {
      "text/plain": [
       "<Figure size 500x500 with 2 Axes>"
      ],
      "image/png": "[encoded data removed]"
     },
     "metadata": {},
     "output_type": "display_data"
    }
   ],
   "execution_count": 18
  },
  {
   "cell_type": "markdown",
   "source": [
    "\n",
    "\n",
    "---\n",
    "\n"
   ],
   "metadata": {
    "id": "4vVOi-rZO02t"
   }
  },
  {
   "cell_type": "markdown",
   "source": [
    "**Top Errors**"
   ],
   "metadata": {
    "id": "OUvIK0ZLPDi9"
   }
  },
  {
   "cell_type": "code",
   "source": [
    "def get_wrong_predictions(true_labels, predicted_labels, original_texts, label_shift=0, num_samples=5, model_name=\"Model\"):\n",
    "    \"\"\"Print wrong predictions.\"\"\"\n",
    "    if label_shift != 0:\n",
    "        predicted_labels = predicted_labels + label_shift\n",
    "\n",
    "    wrong_indices = [i for i in range(len(true_labels)) if true_labels.iloc[i] != predicted_labels[i]]\n",
    "\n",
    "    if len(wrong_indices) == 0:\n",
    "        print(f\"No errors found for {model_name}!\")\n",
    "        return\n",
    "\n",
    "    sampled_wrong_indices = random.sample(wrong_indices, min(num_samples, len(wrong_indices)))\n",
    "\n",
    "    print(f\"\\n--- {model_name} - Top {len(sampled_wrong_indices)} Errors ---\")\n",
    "    for idx in sampled_wrong_indices:\n",
    "        print(f\"\\nText: {original_texts.values[idx]}\")\n",
    "        print(f\"True Label: {true_labels.iloc[idx]}\")\n",
    "        print(f\"Predicted Label: {predicted_labels[idx]}\")"
   ],
   "metadata": {
    "id": "-UcBkFpxN_p6",
    "ExecuteTime": {
     "end_time": "2025-08-01T22:57:47.793393Z",
     "start_time": "2025-08-01T22:57:47.790564Z"
    }
   },
   "outputs": [],
   "execution_count": 19
  },
  {
   "cell_type": "code",
   "source": [
    "# Majority Classifier\n",
    "get_wrong_predictions(test_df['label'], test_preds_majority, test_df['original_text'], model_name=\"Majority Classifier\")\n",
    "\n",
    "# Logistic Regression\n",
    "get_wrong_predictions(test_df['label'], test_preds_logreg, test_df['original_text'], model_name=\"Logistic Regression\")\n",
    "\n",
    "# Ordinal Regression\n",
    "get_wrong_predictions(test_df['label'], test_preds_ordinal, test_df['original_text'], model_name=\"Ordinal Regression\")\n",
    "\n",
    "# BERT (shift predictions back +1)\n",
    "get_wrong_predictions(test_df['label'], test_preds_bert, test_df['original_text'], label_shift=1, model_name=\"BERT Fine-Tuning\")"
   ],
   "metadata": {
    "colab": {
     "base_uri": "https://localhost:8080/",
     "height": 0
    },
    "id": "CTCihrajPG_J",
    "outputId": "6b35e229-5674-4afb-facd-a29085ebc98c",
    "ExecuteTime": {
     "end_time": "2025-08-01T22:57:47.811343Z",
     "start_time": "2025-08-01T22:57:47.806119Z"
    }
   },
   "outputs": [
    {
     "name": "stdout",
     "output_type": "stream",
     "text": [
      "\n",
      "--- Majority Classifier - Top 5 Errors ---\n",
      "\n",
      "Text: We updated our product packaging to include a green leaf symbol that reflects our vision for environmentally mindful living. We aim to increase awareness among customers\n",
      "True Label: 2\n",
      "Predicted Label: 1\n",
      "\n",
      "Text: Plans are underway to transition to manufacturing models across key departments by 2019.\n",
      "True Label: 2\n",
      "Predicted Label: 1\n",
      "\n",
      "Text: Our team is in the early phases of implementing sustainable manufacturing practices, with initial feedback being collected.\n",
      "True Label: 2\n",
      "Predicted Label: 1\n",
      "\n",
      "Text: Plans are underway to transition to supply chain models across key departments by 2019.\n",
      "True Label: 2\n",
      "Predicted Label: 1\n",
      "\n",
      "Text: We are collaborating with EcoCert to evaluate opportunities for product design enhancement, with progress reports expected in 2022.\n",
      "True Label: 2\n",
      "Predicted Label: 1\n",
      "\n",
      "--- Logistic Regression - Top 5 Errors ---\n",
      "\n",
      "Text: Our operations are guided by green principles and a deep respect for the Earth.\n",
      "True Label: 3\n",
      "Predicted Label: 1\n",
      "\n",
      "Text: We are committed to achieving net-zero GHG emissions across its enterprise by 2040, with interim goals including sourcing 100% of its electricity from renewable sources for operations by 2030.\n",
      "True Label: 2\n",
      "Predicted Label: 1\n",
      "\n",
      "Text: At our core, we care about the environment and aim to be responsible global citizens.\n",
      "True Label: 3\n",
      "Predicted Label: 1\n",
      "\n",
      "Text: Doing our part to create a more sustainable future is the right thing to do for our business, our communities and our planet\n",
      "True Label: 3\n",
      "Predicted Label: 2\n",
      "\n",
      "Text: In our pursuit of a greener future, we have adopted more environmentally friendly materials in some of our product lines, though not all regions have implemented this change.\n",
      "True Label: 2\n",
      "Predicted Label: 1\n",
      "\n",
      "--- Ordinal Regression - Top 5 Errors ---\n",
      "\n",
      "Text: At our core, we care about the environment and aim to be responsible global citizens.\n",
      "True Label: 3\n",
      "Predicted Label: 2\n",
      "\n",
      "Text: At EcoLux, our products are inspired by nature, and we take pride in being part of the green revolution.\n",
      "True Label: 3\n",
      "Predicted Label: 2\n",
      "\n",
      "Text: We were named to CDP’s Climate A List for the seventh consecutive year, reflecting our ongoing efforts to reduce emissions and promote sustainability. ​\n",
      "True Label: 1\n",
      "Predicted Label: 2\n",
      "\n",
      "Text: Our operations are guided by green principles and a deep respect for the Earth.\n",
      "True Label: 3\n",
      "Predicted Label: 2\n",
      "\n",
      "Text: Doing our part to create a more sustainable future is the right thing to do for our business, our communities and our planet\n",
      "True Label: 3\n",
      "Predicted Label: 2\n",
      "\n",
      "--- BERT Fine-Tuning - Top 5 Errors ---\n",
      "\n",
      "Text: In 2022, we reduced our carbon emissions by 20% through verified changes in our manufacturing, preventing 40,000 kilowatt-hours of electricity.\n",
      "True Label: 1\n",
      "Predicted Label: 3\n",
      "\n",
      "Text: In 2024, we reduced our carbon emissions by 50% through verified changes in our manufacturing, preventing 5,000 hectares of deforested land.\n",
      "True Label: 1\n",
      "Predicted Label: 3\n",
      "\n",
      "Text: We are collaborating with Global Green Council to evaluate opportunities for waste management enhancement, with progress reports expected in 2018.\n",
      "True Label: 2\n",
      "Predicted Label: 3\n",
      "\n",
      "Text: We are currently piloting a project to improve manufacturing, targeting a 10% improvement by 2019.\n",
      "True Label: 2\n",
      "Predicted Label: 3\n",
      "\n",
      "Text: We are collaborating with Sustainability Index to evaluate opportunities for energy usage enhancement, with progress reports expected in 2018.\n",
      "True Label: 2\n",
      "Predicted Label: 3\n"
     ]
    }
   ],
   "execution_count": 20
  },
  {
   "cell_type": "markdown",
   "source": [
    "\n",
    "\n",
    "---\n",
    "\n"
   ],
   "metadata": {
    "id": "l4DvcVWAPhWB"
   }
  },
  {
   "cell_type": "markdown",
   "source": [
    "**Feature Importance**"
   ],
   "metadata": {
    "id": "mpjVKDwYPyOE"
   }
  },
  {
   "cell_type": "code",
   "source": [
    "def show_top_features(model, vectorizer, label_id, label_name, top_n=10):\n",
    "    \"\"\"Show top positive features for a given label.\"\"\"\n",
    "    feature_names = np.array(vectorizer.get_feature_names_out())\n",
    "    coef = model.coef_[label_id]\n",
    "    top_positive_indices = np.argsort(coef)[-top_n:]\n",
    "    top_negative_indices = np.argsort(coef)[:top_n]\n",
    "\n",
    "    print(f\"\\n--- Top {top_n} features predicting {label_name} (positively) ---\")\n",
    "    for idx in reversed(top_positive_indices):\n",
    "        print(f\"{feature_names[idx]} ({coef[idx]:.4f})\")\n",
    "\n",
    "    print(f\"\\n--- Top {top_n} features predicting against {label_name} (negatively) ---\")\n",
    "    for idx in top_negative_indices:\n",
    "        print(f\"{feature_names[idx]} ({coef[idx]:.4f})\")\n",
    "\n",
    "def show_top_features_ordinal(model, vectorizer, top_n=10):\n",
    "    \"\"\"Show top positive and negative features for ordinal regression.\"\"\"\n",
    "    feature_names = np.array(vectorizer.get_feature_names_out())\n",
    "    coef = model.coef_  # Already 1D\n",
    "\n",
    "    top_positive_indices = np.argsort(coef)[-top_n:]\n",
    "    top_negative_indices = np.argsort(coef)[:top_n]\n",
    "\n",
    "    print(f\"\\n--- Top {top_n} features predicting Higher Labels (e.g., Greenwashing) ---\")\n",
    "    for idx in reversed(top_positive_indices):\n",
    "        print(f\"{feature_names[idx]} ({coef[idx]:.4f})\")\n",
    "\n",
    "    print(f\"\\n--- Top {top_n} features predicting Lower Labels (e.g., Genuine) ---\")\n",
    "    for idx in top_negative_indices:\n",
    "        print(f\"{feature_names[idx]} ({coef[idx]:.4f})\")"
   ],
   "metadata": {
    "id": "ziECWq_-PI5i",
    "ExecuteTime": {
     "end_time": "2025-08-01T22:57:47.844943Z",
     "start_time": "2025-08-01T22:57:47.842027Z"
    }
   },
   "outputs": [],
   "execution_count": 21
  },
  {
   "cell_type": "code",
   "source": [
    "# Logistic Regression Important Features\n",
    "print(\"\\n Logistic Regression Important Features\")\n",
    "show_top_features(logreg_model, vectorizer, label_id=0, label_name=\"Genuine (Label 1)\")\n",
    "show_top_features(logreg_model, vectorizer, label_id=1, label_name=\"Mixed (Label 2)\")\n",
    "show_top_features(logreg_model, vectorizer, label_id=2, label_name=\"Greenwashing (Label 3)\")\n",
    "\n",
    "# Ordinal Regression Important Features\n",
    "print(\"\\n Ordinal Regression Important Features\")\n",
    "show_top_features_ordinal(ordinal_model, vectorizer)"
   ],
   "metadata": {
    "colab": {
     "base_uri": "https://localhost:8080/",
     "height": 0
    },
    "id": "Ties4t7rP1lG",
    "outputId": "050bb2cc-0c5d-4c4e-836f-fa0c7d44d16c",
    "ExecuteTime": {
     "end_time": "2025-08-01T22:57:47.870076Z",
     "start_time": "2025-08-01T22:57:47.866671Z"
    }
   },
   "outputs": [
    {
     "name": "stdout",
     "output_type": "stream",
     "text": [
      "\n",
      " Logistic Regression Important Features\n",
      "\n",
      "--- Top 10 features predicting Genuine (Label 1) (positively) ---\n",
      "verified (1.1811)\n",
      "000 (0.9459)\n",
      "results (0.8266)\n",
      "consumption (0.5928)\n",
      "resource consumption (0.5702)\n",
      "resource (0.5702)\n",
      "cut (0.5702)\n",
      "upgrades (0.5702)\n",
      "upgrades cut (0.5702)\n",
      "cut resource (0.5702)\n",
      "\n",
      "--- Top 10 features predicting against Genuine (Label 1) (negatively) ---\n",
      "expected (-0.6812)\n",
      "opportunities (-0.5115)\n",
      "piloting (-0.5108)\n",
      "currently piloting (-0.5108)\n",
      "currently (-0.5108)\n",
      "piloting project (-0.5108)\n",
      "project improve (-0.5108)\n",
      "targeting (-0.5108)\n",
      "improve (-0.5108)\n",
      "evaluate (-0.4709)\n",
      "\n",
      "--- Top 10 features predicting Mixed (Label 2) (positively) ---\n",
      "expected (0.9484)\n",
      "currently piloting (0.6946)\n",
      "currently (0.6946)\n",
      "targeting (0.6946)\n",
      "improve (0.6946)\n",
      "piloting (0.6946)\n",
      "project improve (0.6946)\n",
      "piloting project (0.6946)\n",
      "progress (0.6679)\n",
      "project (0.6584)\n",
      "\n",
      "--- Top 10 features predicting against Mixed (Label 2) (negatively) ---\n",
      "verified (-0.7976)\n",
      "000 (-0.6403)\n",
      "results (-0.5603)\n",
      "consumption (-0.4017)\n",
      "upgrades cut (-0.3860)\n",
      "resource consumption (-0.3860)\n",
      "results verified (-0.3860)\n",
      "upgrades (-0.3860)\n",
      "cut (-0.3860)\n",
      "cut resource (-0.3860)\n",
      "\n",
      "--- Top 10 features predicting Greenwashing (Label 3) (positively) ---\n",
      "planet (0.7756)\n",
      "environment (0.6332)\n",
      "make (0.5147)\n",
      "good (0.4841)\n",
      "making (0.4667)\n",
      "better (0.4478)\n",
      "committed (0.4333)\n",
      "business (0.3858)\n",
      "brand (0.3765)\n",
      "love (0.3662)\n",
      "\n",
      "--- Top 10 features predicting against Greenwashing (Label 3) (negatively) ---\n",
      "verified (-0.3835)\n",
      "000 (-0.3056)\n",
      "improvement (-0.2780)\n",
      "expected (-0.2671)\n",
      "results (-0.2662)\n",
      "initiative (-0.2504)\n",
      "waste (-0.2438)\n",
      "energy (-0.2435)\n",
      "packaging (-0.2426)\n",
      "2023 (-0.2383)\n",
      "\n",
      " Ordinal Regression Important Features\n",
      "\n",
      "--- Top 10 features predicting Higher Labels (e.g., Greenwashing) ---\n",
      "planet (1.1694)\n",
      "environment (0.9587)\n",
      "make (0.7897)\n",
      "good (0.7241)\n",
      "making (0.7049)\n",
      "expected (0.6751)\n",
      "better (0.6721)\n",
      "business (0.6442)\n",
      "opportunities (0.5985)\n",
      "committed (0.5916)\n",
      "\n",
      "--- Top 10 features predicting Lower Labels (e.g., Genuine) ---\n",
      "verified (-1.7723)\n",
      "000 (-1.4163)\n",
      "results (-1.2367)\n",
      "consumption (-0.8903)\n",
      "cut (-0.8574)\n",
      "cut resource (-0.8574)\n",
      "resource (-0.8574)\n",
      "resource consumption (-0.8574)\n",
      "results verified (-0.8574)\n",
      "upgrades (-0.8574)\n"
     ]
    }
   ],
   "execution_count": 22
  },
  {
   "cell_type": "markdown",
   "source": [
    "\n",
    "\n",
    "---\n",
    "\n"
   ],
   "metadata": {
    "id": "IM18O3MDQY5u"
   }
  },
  {
   "cell_type": "markdown",
   "source": [
    "**Class Distribution**"
   ],
   "metadata": {
    "id": "WuASbBjvQxtc"
   }
  },
  {
   "cell_type": "code",
   "source": [
    "print(\"\\n Test Set Class Distribution\")\n",
    "print(test_df['label'].value_counts().sort_index())\n",
    "\n",
    "print(\"\\n Training Set Class Distribution\")\n",
    "print(train_df['label'].value_counts().sort_index())"
   ],
   "metadata": {
    "colab": {
     "base_uri": "https://localhost:8080/",
     "height": 0
    },
    "id": "-0d6EL7PP3YW",
    "outputId": "ad05921c-8855-4799-e4f2-fb4fd9a27a1d",
    "ExecuteTime": {
     "end_time": "2025-08-01T22:57:47.893430Z",
     "start_time": "2025-08-01T22:57:47.891078Z"
    }
   },
   "outputs": [
    {
     "name": "stdout",
     "output_type": "stream",
     "text": [
      "\n",
      " Test Set Class Distribution\n",
      "label\n",
      "1    52\n",
      "2    44\n",
      "3     4\n",
      "Name: count, dtype: int64\n",
      "\n",
      " Training Set Class Distribution\n",
      "label\n",
      "1    182\n",
      "2    101\n",
      "3     17\n",
      "Name: count, dtype: int64\n"
     ]
    }
   ],
   "execution_count": 23
  },
  {
   "cell_type": "markdown",
   "source": [
    "\n",
    "\n",
    "---\n",
    "\n"
   ],
   "metadata": {
    "id": "4gCjgrpqQzwA"
   }
  },
  {
   "cell_type": "markdown",
   "source": [
    "**Interpretation**"
   ],
   "metadata": {
    "id": "HuLmo1HRRsd5"
   }
  },
  {
   "cell_type": "markdown",
   "source": [
    "**Confusion Matrices Interpretation**\n",
    "\n",
    "The confusion matrices across the four models reveal clear trends.\n",
    "*   The Majority Classifier predicts a single label for all instances leading to poor generalization.\n",
    "*   Logistic Regression and Ordinal Regression show stronger diagonal dominance, meaning better label prediction, though occasional confusion between Genuine and Mixed labels persists.\n",
    "*   BERT Fine Tuning achieves near perfect classification with minimal confusion, showing its ability to deeply capture subtle differences between classes."
   ],
   "metadata": {
    "id": "aYcKRFXaRvKc"
   }
  },
  {
   "cell_type": "markdown",
   "source": [
    "**Top Errors (Manual Error Analysis)**\n",
    "\n",
    "*   The Majority Classifier fails entirely on minority classes, mispredicting everything(as expected).\n",
    "*   Logistic Regression and Ordinal Regression errors often occur on CSR statements with vague or aspirational language, where distinguishing real impact from greenwashing is difficult even for humans.\n",
    "*   BERT’s few mistakes are typically on ambiguous marketing heavy statements, showing that even sophisticated models struggle with borderline cases."
   ],
   "metadata": {
    "id": "hepUOGdZSTQ_"
   }
  },
  {
   "cell_type": "markdown",
   "source": [
    "**Important Features (for Logistic and Ordinal Regression)**\n",
    "\n",
    "*   In Logistic Regression, words like \"verified\" and \"results\" strongly signal genuine impact, while words like \"planet,\" \"environment,\" and \"brand\" tend to signal greenwashing.\n",
    "*   Ordinal Regression aligns similarly but enforces a monotonic trend, favoring words with stronger positive or negative associations along the label ordering."
   ],
   "metadata": {
    "id": "Cy042etESp78"
   }
  },
  {
   "cell_type": "markdown",
   "source": [
    "**Dataset Imbalance Interpretation**\n",
    "\n",
    "Class distribution analysis shows an imbalance, with Pure Greenwashing being the least frequent label, especially in the test set.\n",
    "\n",
    "This imbalance is responsible for the lower performance of the Majority Classifier, which favors the dominant class.\n",
    "\n",
    "However, more sophisticated models (Logistic Regression, Ordinal Regression, BERT) handled the imbalance reasonably well, maintaining strong performance across all classes."
   ],
   "metadata": {
    "id": "6NSLopR9TACC"
   }
  },
  {
   "cell_type": "markdown",
   "source": [
    "\n",
    "\n",
    "---\n",
    "\n"
   ],
   "metadata": {
    "id": "EWZQWahHTQu4"
   }
  }
 ]
}
